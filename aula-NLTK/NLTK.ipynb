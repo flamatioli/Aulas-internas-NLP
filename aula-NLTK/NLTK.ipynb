{
  "nbformat": 4,
  "nbformat_minor": 0,
  "metadata": {
    "colab": {
      "name": "NLTK.ipynb",
      "provenance": [],
      "collapsed_sections": []
    },
    "kernelspec": {
      "name": "python3",
      "display_name": "Python 3"
    }
  },
  "cells": [
    {
      "cell_type": "markdown",
      "metadata": {
        "id": "HD5C7FN7BzLw",
        "colab_type": "text"
      },
      "source": [
        "# Introdução a NLTK\n",
        "\n",
        "Neste notebook vamos ver algumas funções básicas do NLTK para trabalhar com textos.\n",
        "\n",
        "Vamos começar importando um dos muitos livros que estão disponíveis dentro do *próprio NLTK*: Dom Casmurro, do Machado de Assis. Para isso basta seguir essas linhas de código:\n",
        "\n"
      ]
    },
    {
      "cell_type": "code",
      "metadata": {
        "id": "sbj8t0m17R1g",
        "colab_type": "code",
        "colab": {
          "base_uri": "https://localhost:8080/",
          "height": 35
        },
        "outputId": "f6783e55-9a86-479d-843d-c8b3ec596c5e"
      },
      "source": [
        "import nltk # importando NLTK\n",
        "from nltk.corpus import machado # importando o corpus 'machado'\n",
        "nltk.download('machado') # fazendo o download \n",
        "machado.fileids() \n",
        "\n",
        "# vamos guardá-lo na variável 'text'\n",
        "text = machado.raw('romance/marm08.txt')"
      ],
      "execution_count": null,
      "outputs": [
        {
          "output_type": "stream",
          "text": [
            "[nltk_data] Downloading package machado to /root/nltk_data...\n"
          ],
          "name": "stdout"
        }
      ]
    },
    {
      "cell_type": "markdown",
      "metadata": {
        "id": "DVsGy0oPtPNM",
        "colab_type": "text"
      },
      "source": [
        "Vamos já pré-processar o texto, para já facilitar todas as funções e métodos que vamos aplicar:"
      ]
    },
    {
      "cell_type": "code",
      "metadata": {
        "id": "ZQI3HbZntsvK",
        "colab_type": "code",
        "colab": {
          "base_uri": "https://localhost:8080/",
          "height": 69
        },
        "outputId": "a5b111cc-45d3-4900-89bd-d009be17c7dd"
      },
      "source": [
        "import nltk\n",
        "import re\n",
        "\n",
        "nltk.download('stopwords')"
      ],
      "execution_count": null,
      "outputs": [
        {
          "output_type": "stream",
          "text": [
            "[nltk_data] Downloading package stopwords to /root/nltk_data...\n",
            "[nltk_data]   Unzipping corpora/stopwords.zip.\n"
          ],
          "name": "stdout"
        },
        {
          "output_type": "execute_result",
          "data": {
            "text/plain": [
              "True"
            ]
          },
          "metadata": {
            "tags": []
          },
          "execution_count": 5
        }
      ]
    },
    {
      "cell_type": "code",
      "metadata": {
        "id": "-vebrUU1ftwE",
        "colab_type": "code",
        "colab": {}
      },
      "source": [
        "import re\n",
        "def pre_processamento(texto):\n",
        "    \"\"\"\n",
        "    Função para selecionar apenas as letras do texto e remover stopwords\n",
        "    Input: texto para ser pré-processado (string)\n",
        "    Output: texto limpo (string)\n",
        "    \"\"\"\n",
        "\n",
        "    # seleciona apenas letras \n",
        "    letras =  re.findall(r'\\b[A-zÀ-úü]+\\b', text.lower())\n",
        "\n",
        "    # remove stopwords\n",
        "    stopwords = nltk.corpus.stopwords.words('portuguese')\n",
        "\n",
        "    # adicionando stopwords que não estão na lista do nltk \n",
        "    stop = set(stopwords)\n",
        "    meaningful_words = [w for w in letras if w not in stop]\n",
        "\n",
        "    # juntando os tokens novamente em formato de texto\n",
        "    meaningful_words_string = \" \".join(meaningful_words)\n",
        "\n",
        "    return meaningful_words_string"
      ],
      "execution_count": null,
      "outputs": []
    },
    {
      "cell_type": "code",
      "metadata": {
        "id": "pVp2_f5NgdID",
        "colab_type": "code",
        "colab": {}
      },
      "source": [
        "texto_limpo = pre_processamento(text)"
      ],
      "execution_count": null,
      "outputs": []
    },
    {
      "cell_type": "markdown",
      "metadata": {
        "id": "rhBK6LAu5Y6F",
        "colab_type": "text"
      },
      "source": [
        "## Contando vocabulário\n",
        "\n",
        "Vamos ver algumas funções que ajudam a contar palavras num texto:"
      ]
    },
    {
      "cell_type": "code",
      "metadata": {
        "id": "mLyGkk9ryUqY",
        "colab_type": "code",
        "colab": {
          "base_uri": "https://localhost:8080/",
          "height": 35
        },
        "outputId": "389be112-aca4-4a25-ddeb-e6683ff48171"
      },
      "source": [
        "# contagem de palavras\n",
        "len(text)"
      ],
      "execution_count": null,
      "outputs": [
        {
          "output_type": "execute_result",
          "data": {
            "text/plain": [
              "373504"
            ]
          },
          "metadata": {
            "tags": []
          },
          "execution_count": 8
        }
      ]
    },
    {
      "cell_type": "code",
      "metadata": {
        "id": "6Rng_Tbh5s_P",
        "colab_type": "code",
        "colab": {
          "base_uri": "https://localhost:8080/",
          "height": 35
        },
        "outputId": "f9f43096-2ee8-46c3-a46b-875e6f77d6d6"
      },
      "source": [
        "# contagem de palavras específicas\n",
        "text.count('Capitu') # aqui vemos que Capitu aparece 338 vezes dentro do romance"
      ],
      "execution_count": null,
      "outputs": [
        {
          "output_type": "execute_result",
          "data": {
            "text/plain": [
              "338"
            ]
          },
          "metadata": {
            "tags": []
          },
          "execution_count": 10
        }
      ]
    },
    {
      "cell_type": "code",
      "metadata": {
        "id": "XXs8OaH6NDbO",
        "colab_type": "code",
        "colab": {
          "base_uri": "https://localhost:8080/",
          "height": 35
        },
        "outputId": "dfdc28d6-15db-4513-b6a3-9ebd42623eaf"
      },
      "source": [
        "# porcentagem de um texto que é ocupado por determinada palavra\n",
        "100 * text.count('Capitu') / len(text)"
      ],
      "execution_count": null,
      "outputs": [
        {
          "output_type": "execute_result",
          "data": {
            "text/plain": [
              "0.09049434544208362"
            ]
          },
          "metadata": {
            "tags": []
          },
          "execution_count": 11
        }
      ]
    },
    {
      "cell_type": "code",
      "metadata": {
        "id": "seC0zOiKNuOl",
        "colab_type": "code",
        "colab": {
          "base_uri": "https://localhost:8080/",
          "height": 35
        },
        "outputId": "b8744673-11df-4288-df8a-f7a7ca01ed73"
      },
      "source": [
        "# diversidade lexical\n",
        "def lexical_diversity(texto):\n",
        "  return len(set(texto)) / len(texto)\n",
        "\n",
        "lexical_diversity(texto_limpo)"
      ],
      "execution_count": null,
      "outputs": [
        {
          "output_type": "execute_result",
          "data": {
            "text/plain": [
              "0.00015865138189421614"
            ]
          },
          "metadata": {
            "tags": []
          },
          "execution_count": 13
        }
      ]
    },
    {
      "cell_type": "markdown",
      "metadata": {
        "id": "KlZkZ-RFmKN9",
        "colab_type": "text"
      },
      "source": [
        "## Stopwords\n",
        "\n",
        "Como vocês já devem saber, stopwords são palavras consideradas \"inutéis\" para o computador processar e interpretar um texto. \n",
        "\n",
        "Vamos printar as stopwords do português:"
      ]
    },
    {
      "cell_type": "code",
      "metadata": {
        "id": "nKeW2h-LOZjL",
        "colab_type": "code",
        "colab": {
          "base_uri": "https://localhost:8080/",
          "height": 1000
        },
        "outputId": "a2346399-e18e-4bdf-b8ff-84770f1a5220"
      },
      "source": [
        "nltk.download('stopwords')\n",
        "from nltk.corpus import stopwords\n",
        "\n",
        "#printando quais são as stopwords do português\n",
        "stopwords.words('portuguese')"
      ],
      "execution_count": null,
      "outputs": [
        {
          "output_type": "stream",
          "text": [
            "[nltk_data] Downloading package stopwords to /root/nltk_data...\n",
            "[nltk_data]   Unzipping corpora/stopwords.zip.\n"
          ],
          "name": "stdout"
        },
        {
          "output_type": "execute_result",
          "data": {
            "text/plain": [
              "['de',\n",
              " 'a',\n",
              " 'o',\n",
              " 'que',\n",
              " 'e',\n",
              " 'é',\n",
              " 'do',\n",
              " 'da',\n",
              " 'em',\n",
              " 'um',\n",
              " 'para',\n",
              " 'com',\n",
              " 'não',\n",
              " 'uma',\n",
              " 'os',\n",
              " 'no',\n",
              " 'se',\n",
              " 'na',\n",
              " 'por',\n",
              " 'mais',\n",
              " 'as',\n",
              " 'dos',\n",
              " 'como',\n",
              " 'mas',\n",
              " 'ao',\n",
              " 'ele',\n",
              " 'das',\n",
              " 'à',\n",
              " 'seu',\n",
              " 'sua',\n",
              " 'ou',\n",
              " 'quando',\n",
              " 'muito',\n",
              " 'nos',\n",
              " 'já',\n",
              " 'eu',\n",
              " 'também',\n",
              " 'só',\n",
              " 'pelo',\n",
              " 'pela',\n",
              " 'até',\n",
              " 'isso',\n",
              " 'ela',\n",
              " 'entre',\n",
              " 'depois',\n",
              " 'sem',\n",
              " 'mesmo',\n",
              " 'aos',\n",
              " 'seus',\n",
              " 'quem',\n",
              " 'nas',\n",
              " 'me',\n",
              " 'esse',\n",
              " 'eles',\n",
              " 'você',\n",
              " 'essa',\n",
              " 'num',\n",
              " 'nem',\n",
              " 'suas',\n",
              " 'meu',\n",
              " 'às',\n",
              " 'minha',\n",
              " 'numa',\n",
              " 'pelos',\n",
              " 'elas',\n",
              " 'qual',\n",
              " 'nós',\n",
              " 'lhe',\n",
              " 'deles',\n",
              " 'essas',\n",
              " 'esses',\n",
              " 'pelas',\n",
              " 'este',\n",
              " 'dele',\n",
              " 'tu',\n",
              " 'te',\n",
              " 'vocês',\n",
              " 'vos',\n",
              " 'lhes',\n",
              " 'meus',\n",
              " 'minhas',\n",
              " 'teu',\n",
              " 'tua',\n",
              " 'teus',\n",
              " 'tuas',\n",
              " 'nosso',\n",
              " 'nossa',\n",
              " 'nossos',\n",
              " 'nossas',\n",
              " 'dela',\n",
              " 'delas',\n",
              " 'esta',\n",
              " 'estes',\n",
              " 'estas',\n",
              " 'aquele',\n",
              " 'aquela',\n",
              " 'aqueles',\n",
              " 'aquelas',\n",
              " 'isto',\n",
              " 'aquilo',\n",
              " 'estou',\n",
              " 'está',\n",
              " 'estamos',\n",
              " 'estão',\n",
              " 'estive',\n",
              " 'esteve',\n",
              " 'estivemos',\n",
              " 'estiveram',\n",
              " 'estava',\n",
              " 'estávamos',\n",
              " 'estavam',\n",
              " 'estivera',\n",
              " 'estivéramos',\n",
              " 'esteja',\n",
              " 'estejamos',\n",
              " 'estejam',\n",
              " 'estivesse',\n",
              " 'estivéssemos',\n",
              " 'estivessem',\n",
              " 'estiver',\n",
              " 'estivermos',\n",
              " 'estiverem',\n",
              " 'hei',\n",
              " 'há',\n",
              " 'havemos',\n",
              " 'hão',\n",
              " 'houve',\n",
              " 'houvemos',\n",
              " 'houveram',\n",
              " 'houvera',\n",
              " 'houvéramos',\n",
              " 'haja',\n",
              " 'hajamos',\n",
              " 'hajam',\n",
              " 'houvesse',\n",
              " 'houvéssemos',\n",
              " 'houvessem',\n",
              " 'houver',\n",
              " 'houvermos',\n",
              " 'houverem',\n",
              " 'houverei',\n",
              " 'houverá',\n",
              " 'houveremos',\n",
              " 'houverão',\n",
              " 'houveria',\n",
              " 'houveríamos',\n",
              " 'houveriam',\n",
              " 'sou',\n",
              " 'somos',\n",
              " 'são',\n",
              " 'era',\n",
              " 'éramos',\n",
              " 'eram',\n",
              " 'fui',\n",
              " 'foi',\n",
              " 'fomos',\n",
              " 'foram',\n",
              " 'fora',\n",
              " 'fôramos',\n",
              " 'seja',\n",
              " 'sejamos',\n",
              " 'sejam',\n",
              " 'fosse',\n",
              " 'fôssemos',\n",
              " 'fossem',\n",
              " 'for',\n",
              " 'formos',\n",
              " 'forem',\n",
              " 'serei',\n",
              " 'será',\n",
              " 'seremos',\n",
              " 'serão',\n",
              " 'seria',\n",
              " 'seríamos',\n",
              " 'seriam',\n",
              " 'tenho',\n",
              " 'tem',\n",
              " 'temos',\n",
              " 'tém',\n",
              " 'tinha',\n",
              " 'tínhamos',\n",
              " 'tinham',\n",
              " 'tive',\n",
              " 'teve',\n",
              " 'tivemos',\n",
              " 'tiveram',\n",
              " 'tivera',\n",
              " 'tivéramos',\n",
              " 'tenha',\n",
              " 'tenhamos',\n",
              " 'tenham',\n",
              " 'tivesse',\n",
              " 'tivéssemos',\n",
              " 'tivessem',\n",
              " 'tiver',\n",
              " 'tivermos',\n",
              " 'tiverem',\n",
              " 'terei',\n",
              " 'terá',\n",
              " 'teremos',\n",
              " 'terão',\n",
              " 'teria',\n",
              " 'teríamos',\n",
              " 'teriam']"
            ]
          },
          "metadata": {
            "tags": []
          },
          "execution_count": 7
        }
      ]
    },
    {
      "cell_type": "code",
      "metadata": {
        "id": "J9DkSirNmRFO",
        "colab_type": "code",
        "colab": {}
      },
      "source": [
        "# função para ver a porcentagem de palavras do texto que não estão em stopwords\n",
        "def content_fraction(text):\n",
        "  stopwords = nltk.corpus.stopwords.words('portuguese')\n",
        "  content = [w for w in text if w.lower() not in stopwords]\n",
        "  return len(content) / len(text)"
      ],
      "execution_count": null,
      "outputs": []
    },
    {
      "cell_type": "code",
      "metadata": {
        "id": "W3oEkyQSmoSc",
        "colab_type": "code",
        "colab": {
          "base_uri": "https://localhost:8080/",
          "height": 34
        },
        "outputId": "745dbcc3-c8b1-4672-9618-9a3102aeb969"
      },
      "source": [
        "content_fraction(text)"
      ],
      "execution_count": null,
      "outputs": [
        {
          "output_type": "execute_result",
          "data": {
            "text/plain": [
              "0.7187232265250172"
            ]
          },
          "metadata": {
            "tags": []
          },
          "execution_count": 9
        }
      ]
    },
    {
      "cell_type": "markdown",
      "metadata": {
        "id": "WIv2XAAtexx5",
        "colab_type": "text"
      },
      "source": [
        "## Explorando o Texto \n",
        "### Frequência das palavras \n",
        "\n",
        "Podemos usar o FreqDist do NLTK para ver a quantidade de vezes que uma palavra aparece em um texto, ou seja, a frequência das palavras. No caso, se você não realizar nenhum pré-processamento, as palavras mais comuns serão pontuações e stopwords. "
      ]
    },
    {
      "cell_type": "code",
      "metadata": {
        "id": "lzbHRNrue9LQ",
        "colab_type": "code",
        "colab": {
          "base_uri": "https://localhost:8080/",
          "height": 399
        },
        "outputId": "53068dfb-1dfb-441d-b0d4-5cd8085c01f1"
      },
      "source": [
        "from nltk.probability import FreqDist\n",
        "from nltk.tokenize import word_tokenize\n",
        "nltk.download('punkt')\n",
        "\n",
        "tokens = word_tokenize(texto_limpo)\n",
        "fd = FreqDist(tokens)\n",
        "fd.most_common(20)"
      ],
      "execution_count": null,
      "outputs": [
        {
          "output_type": "stream",
          "text": [
            "[nltk_data] Downloading package punkt to /root/nltk_data...\n",
            "[nltk_data]   Unzipping tokenizers/punkt.zip.\n"
          ],
          "name": "stdout"
        },
        {
          "output_type": "execute_result",
          "data": {
            "text/plain": [
              "[('capitu', 341),\n",
              " ('mãe', 229),\n",
              " ('dias', 192),\n",
              " ('tudo', 189),\n",
              " ('capítulo', 188),\n",
              " ('disse', 184),\n",
              " ('casa', 170),\n",
              " ('ser', 168),\n",
              " ('olhos', 164),\n",
              " ('mim', 162),\n",
              " ('josé', 160),\n",
              " ('assim', 158),\n",
              " ('vez', 147),\n",
              " ('agora', 146),\n",
              " ('ainda', 141),\n",
              " ('outra', 138),\n",
              " ('nada', 135),\n",
              " ('lo', 127),\n",
              " ('tão', 122),\n",
              " ('tempo', 120)]"
            ]
          },
          "metadata": {
            "tags": []
          },
          "execution_count": 14
        }
      ]
    },
    {
      "cell_type": "code",
      "metadata": {
        "id": "HvHohjuDgklX",
        "colab_type": "code",
        "colab": {
          "base_uri": "https://localhost:8080/",
          "height": 543
        },
        "outputId": "60d6e0be-981e-419c-a100-850062b69d94"
      },
      "source": [
        "import matplotlib.pyplot as plt\n",
        "tokens_limpo = word_tokenize(texto_limpo)\n",
        "frequencia = FreqDist(tokens_limpo)\n",
        "plt.figure(figsize = (13, 8))\n",
        "frequencia.plot(30, title = \"Frequência de Palavras\")"
      ],
      "execution_count": null,
      "outputs": [
        {
          "output_type": "display_data",
          "data": {
            "image/png": "[encoded data removed]",
            "text/plain": [
              "<Figure size 936x576 with 1 Axes>"
            ]
          },
          "metadata": {
            "tags": [],
            "needs_background": "light"
          }
        }
      ]
    },
    {
      "cell_type": "code",
      "metadata": {
        "id": "JsTnV1IYoUxt",
        "colab_type": "code",
        "colab": {
          "base_uri": "https://localhost:8080/",
          "height": 35
        },
        "outputId": "5404fa3f-4657-45dd-e95f-fdabe7caea13"
      },
      "source": [
        "# vamos ver a frequência da palavra 'amor'\n",
        "frequencia['amor']"
      ],
      "execution_count": null,
      "outputs": [
        {
          "output_type": "execute_result",
          "data": {
            "text/plain": [
              "20"
            ]
          },
          "metadata": {
            "tags": []
          },
          "execution_count": 19
        }
      ]
    },
    {
      "cell_type": "markdown",
      "metadata": {
        "id": "uzGbEw97ioYG",
        "colab_type": "text"
      },
      "source": [
        "### Concordância\n",
        "\n",
        "Essa função serve para nos mostrar em quais contextos determinada palavra de nossa escolha aparece. Isso é feito colando a palavra no centro do seu \"contexto\", ou seja, do texto onde aparece.\n",
        "\n",
        "Vamos ver:\n",
        "\n",
        "\n"
      ]
    },
    {
      "cell_type": "code",
      "metadata": {
        "id": "-LblBVdLhxDN",
        "colab_type": "code",
        "colab": {
          "base_uri": "https://localhost:8080/",
          "height": 468
        },
        "outputId": "7a5c44ee-1417-4f30-cd53-d996f8fbdfd7"
      },
      "source": [
        "dom_casmurro = nltk.Text(word_tokenize(texto_limpo))\n",
        "dom_casmurro.concordance('capitu')"
      ],
      "execution_count": null,
      "outputs": [
        {
          "output_type": "stream",
          "text": [
            "Displaying 25 of 341 matches:\n",
            "asta idade bentinho mal quinze anos capitu fez quatorze semana passada dois cr\n",
            "oisa brincadeira arranjávamos altar capitu servia sacristão alterávamos ritual\n",
            "e viva ar mesma opinião então amava capitu capitu mim realmente andava cosido \n",
            "ar mesma opinião então amava capitu capitu mim realmente andava cosido saias o\n",
            "retanto matéria conversações sempre capitu chamava vezes bonito mocetão flor o\n",
            "indíssimos fazer dizia lindos então capitu abanava cabeça grande expressão des\n",
            "ia alguma frase algum gesto contava capitu dia notou diferença dizendo bonitos\n",
            "fenômeno recente acordar pensamento capitu escutá la memória estremecer ouvia \n",
            "ndade demais virtudes eternas amava capitu capitu amava pernas andavam desanda\n",
            "emais virtudes eternas amava capitu capitu amava pernas andavam desandavam est\n",
            "ralmente ser primeira capítulo xiii capitu repente ouvi bradar voz dentro casa\n",
            "ente ouvi bradar voz dentro casa pé capitu quintal mamãe outra vez casa vem cá\n",
            "orta comunicação mandada rasgar mãe capitu pequenos porta chave taramela abria\n",
            "ebidos outro muitas mesuras bonecas capitu adoeciam médico entrava quintal pau\n",
            "asse língua surda coitada exclamava capitu então coçava queixo doutor acabava \n",
            "mitório terapêutica habitual médico capitu mamãe deixa estar esburacando muro \n",
            "l fiz esforço empurrei porta entrei capitu pé muro fronteiro voltada riscando \n",
            "s então quis vê los perto dei passo capitu agarrou temer acabasse fugindo nega\n",
            "m dispostos bento capitolina voltei capitu olhos chão ergueu logo devagar fica\n",
            "esta vez voz homem jogando siso pai capitu porta fundos pé mulher soltamos mão\n",
            " mãos depressa ficamos atrapalhados capitu muro prego disfarçadamente apagou n\n",
            "sfarçadamente apagou nomes escritos capitu papai estragues reboco muro capitu \n",
            " capitu papai estragues reboco muro capitu riscava sobre riscado apagar bem es\n",
            "ou olhei pé sabugueiro ficava perto capitu respondeu ambos sim senhor bentinho\n",
            " devesse fazê lo legitimar resposta capitu cansada esperar desviou rosto dizen\n"
          ],
          "name": "stdout"
        }
      ]
    },
    {
      "cell_type": "markdown",
      "metadata": {
        "id": "9o4Gmu-_jB0y",
        "colab_type": "text"
      },
      "source": [
        "### Similaridade \n"
      ]
    },
    {
      "cell_type": "code",
      "metadata": {
        "id": "3223WPmxjHjN",
        "colab_type": "code",
        "colab": {
          "base_uri": "https://localhost:8080/",
          "height": 52
        },
        "outputId": "f0af179c-af7b-406c-938f-27bd73fb36cc"
      },
      "source": [
        "dom_casmurro.similar('mãe')"
      ],
      "execution_count": null,
      "outputs": [
        {
          "output_type": "stream",
          "text": [
            "mim falou tanto bolso outra assim fim papel seminário morreu estudante\n",
            "importa súplicas saí\n"
          ],
          "name": "stdout"
        }
      ]
    },
    {
      "cell_type": "markdown",
      "metadata": {
        "id": "xrUM0AR6jRAe",
        "colab_type": "text"
      },
      "source": [
        "### Collocations\n",
        "\n",
        "Collocations são expressões de multiplas palavras que podem ocorrer comumente. De forma mais clara, são apenas formas de encontrar bigramas em um texto.\n",
        "\n",
        "Apenas para relembrar: Bigramas são palavras que tendem a ocorrer mais vezes estando **juntas**, ou seja, elas até podem ocorrer separadas, mas é mais comum que apareçam juntas em um texto. Por exemplo, as palavras 'rio' e 'janeiro' são palavras com sentidos independentes, mas quando se diz respeito a cidade, ocorrem juntas, porque juntas elas possuem um **significado**."
      ]
    },
    {
      "cell_type": "code",
      "metadata": {
        "id": "USeCiIG_jZhd",
        "colab_type": "code",
        "colab": {
          "base_uri": "https://localhost:8080/",
          "height": 104
        },
        "outputId": "adff7863-fca2-4617-a7e7-df899a24ea7c"
      },
      "source": [
        "dom_casmurro.collocations() "
      ],
      "execution_count": null,
      "outputs": [
        {
          "output_type": "stream",
          "text": [
            "josé dias; prima justina; tio cosme; mata cavalos; padre cabral; pode\n",
            "ser; outra vez; alguma coisa; alguns instantes; outra coisa; muita\n",
            "vez; dia seguinte; engenho novo; rio janeiro; dom casmurro;\n",
            "protonotário apostólico; tique tique; ser padre; ave marias; mana\n",
            "glória\n"
          ],
          "name": "stdout"
        }
      ]
    },
    {
      "cell_type": "markdown",
      "metadata": {
        "id": "0VAt4vI6moTv",
        "colab_type": "text"
      },
      "source": [
        "## Gráfico de Dispersão\n",
        "\n",
        "Com um gráfico de dispersão podemos determinar o local de aparição de uma palavra em um texto, desde o começo até o final. Cada faixa (stripe) representa uma aparição de uma palavra e cada linha (row) representa o texto inteiro.\n"
      ]
    },
    {
      "cell_type": "code",
      "metadata": {
        "id": "UMjUPevpmweK",
        "colab_type": "code",
        "colab": {
          "base_uri": "https://localhost:8080/",
          "height": 621
        },
        "outputId": "4720170b-965b-4f34-8ac5-ffb9fe8c599f"
      },
      "source": [
        "plt.figure(figsize=(15, 10))\n",
        "dom_casmurro.dispersion_plot(['capitu', 'mãe', 'homem', 'seminário', 'amor', 'bentinho', 'escobar'])"
      ],
      "execution_count": null,
      "outputs": [
        {
          "output_type": "display_data",
          "data": {
            "image/png": "[encoded data removed]",
            "text/plain": [
              "<Figure size 1080x720 with 1 Axes>"
            ]
          },
          "metadata": {
            "tags": [],
            "needs_background": "light"
          }
        }
      ]
    },
    {
      "cell_type": "markdown",
      "metadata": {
        "id": "iHZjgA4AuGNC",
        "colab_type": "text"
      },
      "source": [
        "## Swadesh\n",
        "\n",
        "Essa é uma ferramente construída com palavras de determinada língua com sua equivalência em outra língua. Você escolhe as línguas que deseja e isso gera um dicionário com as palavras equivalentes de cada língua, entetanto são poucas palavras (no português são umas 200 só). "
      ]
    },
    {
      "cell_type": "code",
      "metadata": {
        "id": "L-Y7w6EXr8WG",
        "colab_type": "code",
        "colab": {
          "base_uri": "https://localhost:8080/",
          "height": 68
        },
        "outputId": "a2cd2bdb-b688-4353-e0c4-1850bbda5758"
      },
      "source": [
        "from nltk.corpus import swadesh\n",
        "nltk.download('swadesh')"
      ],
      "execution_count": null,
      "outputs": [
        {
          "output_type": "stream",
          "text": [
            "[nltk_data] Downloading package swadesh to /root/nltk_data...\n",
            "[nltk_data]   Unzipping corpora/swadesh.zip.\n"
          ],
          "name": "stdout"
        },
        {
          "output_type": "execute_result",
          "data": {
            "text/plain": [
              "True"
            ]
          },
          "metadata": {
            "tags": []
          },
          "execution_count": 10
        }
      ]
    },
    {
      "cell_type": "code",
      "metadata": {
        "id": "H0Acxp_Er_aV",
        "colab_type": "code",
        "colab": {}
      },
      "source": [
        "pt2en = swadesh.entries(['pt', 'en'])"
      ],
      "execution_count": null,
      "outputs": []
    },
    {
      "cell_type": "code",
      "metadata": {
        "id": "zjMCaoIUsKxF",
        "colab_type": "code",
        "colab": {
          "base_uri": "https://localhost:8080/",
          "height": 1000
        },
        "outputId": "cca6c917-6df5-4288-cf69-95d7848c8cfe"
      },
      "source": [
        "pt2en"
      ],
      "execution_count": null,
      "outputs": [
        {
          "output_type": "execute_result",
          "data": {
            "text/plain": [
              "[('eu', 'I'),\n",
              " ('tu, você', 'you (singular), thou'),\n",
              " ('ele', 'he'),\n",
              " ('nós', 'we'),\n",
              " ('vós, vocês', 'you (plural)'),\n",
              " ('eles, elas', 'they'),\n",
              " ('este, isto', 'this'),\n",
              " ('aquele, aquilo', 'that'),\n",
              " ('aqui', 'here'),\n",
              " ('lá, ali, aí', 'there'),\n",
              " ('quem', 'who'),\n",
              " ('que, o que', 'what'),\n",
              " ('onde', 'where'),\n",
              " ('quando', 'when'),\n",
              " ('como', 'how'),\n",
              " ('não', 'not'),\n",
              " ('todo', 'all'),\n",
              " ('muito', 'many'),\n",
              " ('algum', 'some'),\n",
              " ('pouco', 'few'),\n",
              " ('outro, outra', 'other'),\n",
              " ('um, uma', 'one'),\n",
              " ('dois, duas', 'two'),\n",
              " ('três', 'three'),\n",
              " ('quatro', 'four'),\n",
              " ('cinco', 'five'),\n",
              " ('grande', 'big'),\n",
              " ('longe', 'long'),\n",
              " ('largo', 'wide'),\n",
              " ('grosso, espesso', 'thick'),\n",
              " ('pesado', 'heavy'),\n",
              " ('pequeno', 'small'),\n",
              " ('curto', 'short'),\n",
              " ('estreito', 'narrow'),\n",
              " ('tênue, magro', 'thin'),\n",
              " ('mulher', 'woman'),\n",
              " ('homem', 'man (adult male)'),\n",
              " ('homem', 'man (human being)'),\n",
              " ('criança, filho', 'child'),\n",
              " ('esposa, mulher', 'wife'),\n",
              " ('esposo, marido', 'husband'),\n",
              " ('mãe', 'mother'),\n",
              " ('pai', 'father'),\n",
              " ('animal', 'animal'),\n",
              " ('peixe', 'fish'),\n",
              " ('ave, pássaro', 'bird'),\n",
              " ('cão, cachorro', 'dog'),\n",
              " ('piolho', 'louse'),\n",
              " ('cobra, serpente', 'snake'),\n",
              " ('verme', 'worm'),\n",
              " ('árvore', 'tree'),\n",
              " ('floresta', 'forest'),\n",
              " ('bastão, vara', 'stick'),\n",
              " ('fruta, fruto', 'fruit'),\n",
              " ('semente', 'seed'),\n",
              " ('folha', 'leaf'),\n",
              " ('raiz', 'root'),\n",
              " ('casca', 'bark (from tree)'),\n",
              " ('flor', 'flower'),\n",
              " ('grama, erva', 'grass'),\n",
              " ('corda', 'rope'),\n",
              " ('pele, cútis', 'skin'),\n",
              " ('carne', 'meat'),\n",
              " ('sangue', 'blood'),\n",
              " ('osso', 'bone'),\n",
              " ('gordura', 'fat (noun)'),\n",
              " ('ovo', 'egg'),\n",
              " ('chifre, corno', 'horn'),\n",
              " ('cauda, rabo', 'tail'),\n",
              " ('pena, pluma', 'feather'),\n",
              " ('pelo, cabelo', 'hair'),\n",
              " ('cabeça', 'head'),\n",
              " ('orelha', 'ear'),\n",
              " ('olho', 'eye'),\n",
              " ('nariz', 'nose'),\n",
              " ('boca', 'mouth'),\n",
              " ('dente', 'tooth'),\n",
              " ('língua', 'tongue'),\n",
              " ('unha', 'fingernail'),\n",
              " ('pé', 'foot'),\n",
              " ('perna', 'leg'),\n",
              " ('joelho', 'knee'),\n",
              " ('mão', 'hand'),\n",
              " ('asa', 'wing'),\n",
              " ('barriga, ventre', 'belly'),\n",
              " ('tripas, entranhas', 'guts'),\n",
              " ('pescoço, colo', 'neck'),\n",
              " ('costas, dorso', 'back'),\n",
              " ('peito, seio', 'breast'),\n",
              " ('coração', 'heart'),\n",
              " ('fígado', 'liver'),\n",
              " ('beber', 'drink'),\n",
              " ('comer', 'eat'),\n",
              " ('morder', 'bite'),\n",
              " ('sugar, chupar', 'suck'),\n",
              " ('cuspir', 'spit'),\n",
              " ('vomitar', 'vomit'),\n",
              " ('soprar', 'blow'),\n",
              " ('respirar', 'breathe'),\n",
              " ('rir', 'laugh'),\n",
              " ('ver', 'see'),\n",
              " ('ouvir', 'hear'),\n",
              " ('saber', 'know (a fact)'),\n",
              " ('pensar', 'think'),\n",
              " ('cheirar', 'smell'),\n",
              " ('temer', 'fear'),\n",
              " ('dormir', 'sleep'),\n",
              " ('viver', 'live'),\n",
              " ('morrer', 'die'),\n",
              " ('matar', 'kill'),\n",
              " ('lutar', 'fight'),\n",
              " ('caçar', 'hunt'),\n",
              " ('bater', 'hit'),\n",
              " ('cortar', 'cut'),\n",
              " ('fender, rachar', 'split'),\n",
              " ('esfaquear, apunhalar', 'stab'),\n",
              " ('arranhar, raspar', 'scratch'),\n",
              " ('cavar, excavar', 'dig'),\n",
              " ('nadar', 'swim'),\n",
              " ('voar', 'fly (verb)'),\n",
              " ('andar, caminhar, passear', 'walk'),\n",
              " ('vir', 'come'),\n",
              " ('estar, deitado, jazer', 'lie'),\n",
              " ('sentar, estar, sentado', 'sit'),\n",
              " ('estar, de pé, estar, em pé', 'stand'),\n",
              " ('virar, girar', 'turn'),\n",
              " ('cair', 'fall'),\n",
              " ('dar', 'give'),\n",
              " ('segurar', 'hold'),\n",
              " ('apertar, comprimir', 'squeeze'),\n",
              " ('esfregar, friccionar', 'rub'),\n",
              " ('lavar', 'wash'),\n",
              " ('enxugar', 'wipe'),\n",
              " ('puxar', 'pull'),\n",
              " ('empurrar', 'push'),\n",
              " ('jogar, atirar, lançar', 'throw'),\n",
              " ('amarrar', 'tie'),\n",
              " ('costurar', 'sew'),\n",
              " ('contar', 'count'),\n",
              " ('dizer', 'say'),\n",
              " ('cantar', 'sing'),\n",
              " ('jogar, brincar', 'play'),\n",
              " ('flutuar, boiar', 'float'),\n",
              " ('fluir', 'flow'),\n",
              " ('gelar, congelar, refrigerar', 'freeze'),\n",
              " ('inchar, intumescer', 'swell'),\n",
              " ('sol', 'sun'),\n",
              " ('lua', 'moon'),\n",
              " ('estrela', 'star'),\n",
              " ('água', 'water'),\n",
              " ('chuva', 'rain'),\n",
              " ('rio', 'river'),\n",
              " ('lago', 'lake'),\n",
              " ('mar', 'sea'),\n",
              " ('sal', 'salt'),\n",
              " ('pedra', 'stone'),\n",
              " ('areia', 'sand'),\n",
              " ('pó, poeira', 'dust'),\n",
              " ('terra', 'earth'),\n",
              " ('nuvem', 'cloud'),\n",
              " ('neblina, névoa, nevoeiro, bruma', 'fog'),\n",
              " ('céu', 'sky'),\n",
              " ('vento', 'wind'),\n",
              " ('neve', 'snow'),\n",
              " ('gelo', 'ice'),\n",
              " ('fumaça', 'smoke'),\n",
              " ('fogo', 'fire'),\n",
              " ('cinzas', 'ashes'),\n",
              " ('queimar, arder', 'burn'),\n",
              " ('estrada', 'road'),\n",
              " ('montanha', 'mountain'),\n",
              " ('vermelho, rubro', 'red'),\n",
              " ('verde', 'green'),\n",
              " ('amarelo', 'yellow'),\n",
              " ('branco', 'white'),\n",
              " ('preto, negro', 'black'),\n",
              " ('noite', 'night'),\n",
              " ('dia', 'day'),\n",
              " ('ano', 'year'),\n",
              " ('quente, cálido', 'warm'),\n",
              " ('frio, frígido', 'cold'),\n",
              " ('cheio, pleno, completo', 'full'),\n",
              " ('novo', 'new'),\n",
              " ('velho', 'old'),\n",
              " ('bom', 'good'),\n",
              " ('mau', 'bad'),\n",
              " ('estragado', 'rotten'),\n",
              " ('sujo, imundo', 'dirty'),\n",
              " ('reto', 'straight'),\n",
              " ('redondo', 'round'),\n",
              " ('afiado, aguçado', 'sharp'),\n",
              " ('cego, embotado', 'dull'),\n",
              " ('liso', 'smooth'),\n",
              " ('úmido, molhado', 'wet'),\n",
              " ('seco', 'dry'),\n",
              " ('correto', 'correct'),\n",
              " ('próximo, perto', 'near'),\n",
              " ('distante, longe', 'far'),\n",
              " ('direito', 'right'),\n",
              " ('esquerdo', 'left'),\n",
              " ('a, em', 'at'),\n",
              " ('em', 'in'),\n",
              " ('com', 'with'),\n",
              " ('e', 'and'),\n",
              " ('se', 'if'),\n",
              " ('porque', 'because'),\n",
              " ('nome', 'name')]"
            ]
          },
          "metadata": {
            "tags": []
          },
          "execution_count": 12
        }
      ]
    },
    {
      "cell_type": "markdown",
      "metadata": {
        "id": "7zwNpHodiajx",
        "colab_type": "text"
      },
      "source": [
        "Podemos construir um mini \"tradutor\" usando o swadesh:"
      ]
    },
    {
      "cell_type": "code",
      "metadata": {
        "id": "eOZpmW3QsN5I",
        "colab_type": "code",
        "colab": {}
      },
      "source": [
        "translate = dict(pt2en)"
      ],
      "execution_count": null,
      "outputs": []
    },
    {
      "cell_type": "code",
      "metadata": {
        "id": "pwsh2slvsZVc",
        "colab_type": "code",
        "colab": {
          "base_uri": "https://localhost:8080/",
          "height": 51
        },
        "outputId": "5b5d7ab2-8381-43a3-c0e9-d8718a3d4d7d"
      },
      "source": [
        "lista_palavras = ['sol', 'lua']\n",
        "\n",
        "for i in lista_palavras:\n",
        "  print(translate[i])"
      ],
      "execution_count": null,
      "outputs": [
        {
          "output_type": "stream",
          "text": [
            "sun\n",
            "moon\n"
          ],
          "name": "stdout"
        }
      ]
    },
    {
      "cell_type": "markdown",
      "metadata": {
        "id": "ycBaPS0uvsq1",
        "colab_type": "text"
      },
      "source": [
        "## Sentidos e Sinônimos com WordNet\n",
        "\n",
        "WordNet é um dicionário de inglês orientado para a semântica. O NLTK inclui o WordNet em inglês, com 155.287 palavras e 117.659 conjuntos de sinônimos. Começaremos examinando os sinônimos e como eles são acessados ​​no WordNet:\n",
        "\n"
      ]
    },
    {
      "cell_type": "code",
      "metadata": {
        "id": "UVjFyTn6scYg",
        "colab_type": "code",
        "colab": {
          "base_uri": "https://localhost:8080/",
          "height": 52
        },
        "outputId": "309cfea6-a44b-4723-e725-e9007ed7a3f6"
      },
      "source": [
        "nltk.download('wordnet')\n",
        "from nltk.corpus import wordnet as wn"
      ],
      "execution_count": null,
      "outputs": [
        {
          "output_type": "stream",
          "text": [
            "[nltk_data] Downloading package wordnet to /root/nltk_data...\n",
            "[nltk_data]   Unzipping corpora/wordnet.zip.\n"
          ],
          "name": "stdout"
        }
      ]
    },
    {
      "cell_type": "code",
      "metadata": {
        "id": "JwsbL878rTWo",
        "colab_type": "code",
        "colab": {
          "base_uri": "https://localhost:8080/",
          "height": 104
        },
        "outputId": "07f4776b-27f5-4139-8537-06b76e59e5ea"
      },
      "source": [
        "# com essa função podemos ver que 'car' possui dois sentidos, de 'car' e podendo ser 'cable_car'\n",
        "wn.synsets('car')"
      ],
      "execution_count": null,
      "outputs": [
        {
          "output_type": "execute_result",
          "data": {
            "text/plain": [
              "[Synset('car.n.01'),\n",
              " Synset('car.n.02'),\n",
              " Synset('car.n.03'),\n",
              " Synset('car.n.04'),\n",
              " Synset('cable_car.n.01')]"
            ]
          },
          "metadata": {
            "tags": []
          },
          "execution_count": 19
        }
      ]
    },
    {
      "cell_type": "code",
      "metadata": {
        "id": "eDo-M0hyrVeb",
        "colab_type": "code",
        "colab": {
          "base_uri": "https://localhost:8080/",
          "height": 35
        },
        "outputId": "a2ffa33f-14d4-4897-ab40-82bb427fca10"
      },
      "source": [
        "# vamos explorar sinônimos do primeiro tipo de carro\n",
        "wn.synset('car.n.01').lemma_names()"
      ],
      "execution_count": null,
      "outputs": [
        {
          "output_type": "execute_result",
          "data": {
            "text/plain": [
              "['car', 'auto', 'automobile', 'machine', 'motorcar']"
            ]
          },
          "metadata": {
            "tags": []
          },
          "execution_count": 20
        }
      ]
    },
    {
      "cell_type": "code",
      "metadata": {
        "id": "i4y-zkrir5A5",
        "colab_type": "code",
        "colab": {
          "base_uri": "https://localhost:8080/",
          "height": 35
        },
        "outputId": "a2a13b73-29d0-4218-a711-90a081cf0515"
      },
      "source": [
        "# vamos acessar a definição de 'car'\n",
        "wn.synset('car.n.01').definition()"
      ],
      "execution_count": null,
      "outputs": [
        {
          "output_type": "execute_result",
          "data": {
            "application/vnd.google.colaboratory.intrinsic+json": {
              "type": "string"
            },
            "text/plain": [
              "'a motor vehicle with four wheels; usually propelled by an internal combustion engine'"
            ]
          },
          "metadata": {
            "tags": []
          },
          "execution_count": 21
        }
      ]
    },
    {
      "cell_type": "code",
      "metadata": {
        "id": "mSXPgs7qsB-p",
        "colab_type": "code",
        "colab": {
          "base_uri": "https://localhost:8080/",
          "height": 35
        },
        "outputId": "c57f336f-1a63-4d41-dc12-0275c675fc1e"
      },
      "source": [
        "# exemplo numa frase\n",
        "wn.synset('car.n.01').examples()"
      ],
      "execution_count": null,
      "outputs": [
        {
          "output_type": "execute_result",
          "data": {
            "text/plain": [
              "['he needs a car to get to work']"
            ]
          },
          "metadata": {
            "tags": []
          },
          "execution_count": 24
        }
      ]
    },
    {
      "cell_type": "markdown",
      "metadata": {
        "id": "dQR5LlqWt938",
        "colab_type": "text"
      },
      "source": [
        "Podemos também acessar hipônimos, que são palavras que têm sentido mais restrito, ou seja, hipônimo é um vocábulo mais específico. Por exemplo: Observar, examinar, olhar, enxergar são hipônimos de ver."
      ]
    },
    {
      "cell_type": "code",
      "metadata": {
        "id": "3tMsgzSpsEoB",
        "colab_type": "code",
        "colab": {
          "base_uri": "https://localhost:8080/",
          "height": 555
        },
        "outputId": "49adaadd-7309-4077-c004-81ce7fd8a096"
      },
      "source": [
        "# hipônimos de car\n",
        "motorcar = wn.synset('car.n.01')\n",
        "types_of_motorcar = motorcar.hyponyms()\n",
        "types_of_motorcar"
      ],
      "execution_count": null,
      "outputs": [
        {
          "output_type": "execute_result",
          "data": {
            "text/plain": [
              "[Synset('ambulance.n.01'),\n",
              " Synset('beach_wagon.n.01'),\n",
              " Synset('bus.n.04'),\n",
              " Synset('cab.n.03'),\n",
              " Synset('compact.n.03'),\n",
              " Synset('convertible.n.01'),\n",
              " Synset('coupe.n.01'),\n",
              " Synset('cruiser.n.01'),\n",
              " Synset('electric.n.01'),\n",
              " Synset('gas_guzzler.n.01'),\n",
              " Synset('hardtop.n.01'),\n",
              " Synset('hatchback.n.01'),\n",
              " Synset('horseless_carriage.n.01'),\n",
              " Synset('hot_rod.n.01'),\n",
              " Synset('jeep.n.01'),\n",
              " Synset('limousine.n.01'),\n",
              " Synset('loaner.n.02'),\n",
              " Synset('minicar.n.01'),\n",
              " Synset('minivan.n.01'),\n",
              " Synset('model_t.n.01'),\n",
              " Synset('pace_car.n.01'),\n",
              " Synset('racer.n.02'),\n",
              " Synset('roadster.n.01'),\n",
              " Synset('sedan.n.01'),\n",
              " Synset('sport_utility.n.01'),\n",
              " Synset('sports_car.n.01'),\n",
              " Synset('stanley_steamer.n.01'),\n",
              " Synset('stock_car.n.01'),\n",
              " Synset('subcompact.n.01'),\n",
              " Synset('touring_car.n.01'),\n",
              " Synset('used-car.n.01')]"
            ]
          },
          "metadata": {
            "tags": []
          },
          "execution_count": 26
        }
      ]
    },
    {
      "cell_type": "markdown",
      "metadata": {
        "id": "oLj7RjPluYJ3",
        "colab_type": "text"
      },
      "source": [
        "De forma semelhante, podemos ver hiperônimos, que é uma palavra que pertence ao mesmo campo semântico de outra mas com o sentido mais abrangente, podendo ter várias possibilidades para um único hipônimo. Por exemplo, a palavra flor está associada a todos os tipos de flores: rosa, dália, violeta, etc."
      ]
    },
    {
      "cell_type": "code",
      "metadata": {
        "id": "mPs15WHbtxgX",
        "colab_type": "code",
        "colab": {
          "base_uri": "https://localhost:8080/",
          "height": 35
        },
        "outputId": "bd4472cb-d734-4b64-a244-8730bfde8bea"
      },
      "source": [
        "motocar_hyper = motorcar.hypernyms()\n",
        "motocar_hyper"
      ],
      "execution_count": null,
      "outputs": [
        {
          "output_type": "execute_result",
          "data": {
            "text/plain": [
              "[Synset('motor_vehicle.n.01')]"
            ]
          },
          "metadata": {
            "tags": []
          },
          "execution_count": 28
        }
      ]
    },
    {
      "cell_type": "code",
      "metadata": {
        "id": "5em9WkYzuljW",
        "colab_type": "code",
        "colab": {
          "base_uri": "https://localhost:8080/",
          "height": 35
        },
        "outputId": "a3fcd684-479d-4167-a1a8-9cb7c2d48c37"
      },
      "source": [
        "#o maior hiperparâmetro possível\n",
        "motorcar.root_hypernyms()"
      ],
      "execution_count": null,
      "outputs": [
        {
          "output_type": "execute_result",
          "data": {
            "text/plain": [
              "[Synset('entity.n.01')]"
            ]
          },
          "metadata": {
            "tags": []
          },
          "execution_count": 29
        }
      ]
    },
    {
      "cell_type": "markdown",
      "metadata": {
        "id": "kAcBleu6il4U",
        "colab_type": "text"
      },
      "source": [
        "## Normalizando o Texto - Stemmatizando e Lemmatizando\n",
        "\n",
        "Como vocês já sabem, stemmatizar e lemmatizar um texto é diminuir algumas palavras para sua raiz. A diferença, entretanto, é que ao lemmatizar você realmente reduz a palavra a sua raiz, o que pode levar bastante tempo, e ao stemmatizar as palavras são só cortadas, o que pode gerar palavras que não existem."
      ]
    },
    {
      "cell_type": "code",
      "metadata": {
        "id": "KrRVzPWbHv-p",
        "colab_type": "code",
        "colab": {}
      },
      "source": [
        "#stemmatizando com Porter\n",
        "porter = nltk.PorterStemmer()\n",
        "[porter.stem(t) for t in tokens]"
      ],
      "execution_count": null,
      "outputs": []
    },
    {
      "cell_type": "code",
      "metadata": {
        "id": "Wm2y5GjnH3Md",
        "colab_type": "code",
        "colab": {}
      },
      "source": [
        "#stemmatizando com Lancaster\n",
        "lancaster = nltk.LancasterStemmer()\n",
        "[lancaster.stem(t) for t in tokens]"
      ],
      "execution_count": null,
      "outputs": []
    },
    {
      "cell_type": "code",
      "metadata": {
        "id": "8yD4Iqzhv5KV",
        "colab_type": "code",
        "colab": {}
      },
      "source": [
        "#Lemmatizando\n",
        "wnl = nltk.WordNetLemmatizer()\n",
        "[wnl.lemmatize(t) for t in tokens]"
      ],
      "execution_count": null,
      "outputs": []
    },
    {
      "cell_type": "markdown",
      "metadata": {
        "id": "yywV_oTtkT9L",
        "colab_type": "text"
      },
      "source": [
        "# Modelagem com NLTK\n",
        "\n",
        "![alt text](https://www.nltk.org/images/supervised-classification.png)"
      ]
    },
    {
      "cell_type": "code",
      "metadata": {
        "id": "Gg1m-RJlkVX1",
        "colab_type": "code",
        "colab": {
          "base_uri": "https://localhost:8080/",
          "height": 68
        },
        "outputId": "78814f60-4440-4c55-a3e0-6068eb8c5aa1"
      },
      "source": [
        "import random\n",
        "import nltk\n",
        "from nltk.corpus import names\n",
        "nltk.download('names')\n",
        "nltk.corpus.names.fileids()"
      ],
      "execution_count": null,
      "outputs": [
        {
          "output_type": "stream",
          "text": [
            "[nltk_data] Downloading package names to /root/nltk_data...\n",
            "[nltk_data]   Package names is already up-to-date!\n"
          ],
          "name": "stdout"
        },
        {
          "output_type": "execute_result",
          "data": {
            "text/plain": [
              "['female.txt', 'male.txt']"
            ]
          },
          "metadata": {
            "tags": []
          },
          "execution_count": 40
        }
      ]
    },
    {
      "cell_type": "markdown",
      "metadata": {
        "id": "3b590AvDsqJS",
        "colab_type": "text"
      },
      "source": [
        "## Um classificador simplificado"
      ]
    },
    {
      "cell_type": "code",
      "metadata": {
        "id": "ZI25nZE-l4XT",
        "colab_type": "code",
        "colab": {}
      },
      "source": [
        "# labels / dataset\n",
        "labeled_names = [(name, 'male') for name in names.words('male.txt')] + \\\n",
        "                [(name, 'female') for name in names.words('female.txt')]\n",
        "random.shuffle(labeled_names)"
      ],
      "execution_count": null,
      "outputs": []
    },
    {
      "cell_type": "code",
      "metadata": {
        "id": "nGCvmXwhm2to",
        "colab_type": "code",
        "colab": {
          "base_uri": "https://localhost:8080/",
          "height": 34
        },
        "outputId": "3553d6fa-b643-4986-d1ea-5a69bf404cbf"
      },
      "source": [
        "# features function generator\n",
        "def gender_features(word):\n",
        "  return {\n",
        "      'last_letter': word[-1]\n",
        "    }\n",
        "gender_features('Shrek')"
      ],
      "execution_count": null,
      "outputs": [
        {
          "output_type": "execute_result",
          "data": {
            "text/plain": [
              "{'last_letter': 'k'}"
            ]
          },
          "metadata": {
            "tags": []
          },
          "execution_count": 28
        }
      ]
    },
    {
      "cell_type": "code",
      "metadata": {
        "id": "pNWlvLD-maaH",
        "colab_type": "code",
        "colab": {}
      },
      "source": [
        "def create_dataset(function):\n",
        "  # creating dataset\n",
        "  feature_set = [(function(name), gender) for (name, gender) in labeled_names]\n",
        "  # train test split\n",
        "  train_set, test_set = feature_set[500:], feature_set[:500]\n",
        "  return train_set, test_set"
      ],
      "execution_count": null,
      "outputs": []
    },
    {
      "cell_type": "code",
      "metadata": {
        "id": "xcsQ6o4W40EG",
        "colab_type": "code",
        "colab": {
          "base_uri": "https://localhost:8080/",
          "height": 1000
        },
        "outputId": "fa5a0d6e-542c-443e-a1f2-b0ed0c9c5a0b"
      },
      "source": [
        "train_set"
      ],
      "execution_count": null,
      "outputs": [
        {
          "output_type": "execute_result",
          "data": {
            "text/plain": [
              "[({'last_letter': 'e'}, 'female'),\n",
              " ({'last_letter': 'e'}, 'female'),\n",
              " ({'last_letter': 'a'}, 'female'),\n",
              " ({'last_letter': 'e'}, 'female'),\n",
              " ({'last_letter': 'y'}, 'female'),\n",
              " ({'last_letter': 'l'}, 'male'),\n",
              " ({'last_letter': 'm'}, 'male'),\n",
              " ({'last_letter': 'a'}, 'female'),\n",
              " ({'last_letter': 't'}, 'male'),\n",
              " ({'last_letter': 'a'}, 'female'),\n",
              " ({'last_letter': 'e'}, 'male'),\n",
              " ({'last_letter': 'e'}, 'female'),\n",
              " ({'last_letter': 'e'}, 'female'),\n",
              " ({'last_letter': 'a'}, 'female'),\n",
              " ({'last_letter': 'e'}, 'female'),\n",
              " ({'last_letter': 'm'}, 'male'),\n",
              " ({'last_letter': 'r'}, 'female'),\n",
              " ({'last_letter': 'e'}, 'male'),\n",
              " ({'last_letter': 'e'}, 'female'),\n",
              " ({'last_letter': 'y'}, 'female'),\n",
              " ({'last_letter': 'a'}, 'female'),\n",
              " ({'last_letter': 'y'}, 'female'),\n",
              " ({'last_letter': 'e'}, 'female'),\n",
              " ({'last_letter': 'e'}, 'male'),\n",
              " ({'last_letter': 'a'}, 'female'),\n",
              " ({'last_letter': 'a'}, 'female'),\n",
              " ({'last_letter': 'o'}, 'female'),\n",
              " ({'last_letter': 'i'}, 'female'),\n",
              " ({'last_letter': 'e'}, 'male'),\n",
              " ({'last_letter': 'h'}, 'female'),\n",
              " ({'last_letter': 'a'}, 'female'),\n",
              " ({'last_letter': 'e'}, 'female'),\n",
              " ({'last_letter': 'a'}, 'female'),\n",
              " ({'last_letter': 'a'}, 'female'),\n",
              " ({'last_letter': 's'}, 'male'),\n",
              " ({'last_letter': 'i'}, 'female'),\n",
              " ({'last_letter': 't'}, 'male'),\n",
              " ({'last_letter': 't'}, 'male'),\n",
              " ({'last_letter': 's'}, 'female'),\n",
              " ({'last_letter': 'e'}, 'female'),\n",
              " ({'last_letter': 'f'}, 'male'),\n",
              " ({'last_letter': 'n'}, 'female'),\n",
              " ({'last_letter': 'a'}, 'female'),\n",
              " ({'last_letter': 'e'}, 'female'),\n",
              " ({'last_letter': 'n'}, 'female'),\n",
              " ({'last_letter': 'a'}, 'female'),\n",
              " ({'last_letter': 'e'}, 'female'),\n",
              " ({'last_letter': 'd'}, 'male'),\n",
              " ({'last_letter': 'n'}, 'female'),\n",
              " ({'last_letter': 'a'}, 'female'),\n",
              " ({'last_letter': 'e'}, 'female'),\n",
              " ({'last_letter': 'e'}, 'female'),\n",
              " ({'last_letter': 'n'}, 'female'),\n",
              " ({'last_letter': 'e'}, 'male'),\n",
              " ({'last_letter': 'a'}, 'female'),\n",
              " ({'last_letter': 'e'}, 'female'),\n",
              " ({'last_letter': 'k'}, 'male'),\n",
              " ({'last_letter': 't'}, 'male'),\n",
              " ({'last_letter': 'y'}, 'male'),\n",
              " ({'last_letter': 'a'}, 'female'),\n",
              " ({'last_letter': 'a'}, 'female'),\n",
              " ({'last_letter': 'a'}, 'female'),\n",
              " ({'last_letter': 'a'}, 'female'),\n",
              " ({'last_letter': 'e'}, 'male'),\n",
              " ({'last_letter': 'l'}, 'female'),\n",
              " ({'last_letter': 'y'}, 'female'),\n",
              " ({'last_letter': 'e'}, 'female'),\n",
              " ({'last_letter': 'l'}, 'male'),\n",
              " ({'last_letter': 'h'}, 'female'),\n",
              " ({'last_letter': 'i'}, 'female'),\n",
              " ({'last_letter': 's'}, 'male'),\n",
              " ({'last_letter': 'a'}, 'female'),\n",
              " ({'last_letter': 'd'}, 'male'),\n",
              " ({'last_letter': 'e'}, 'female'),\n",
              " ({'last_letter': 'a'}, 'female'),\n",
              " ({'last_letter': 'n'}, 'male'),\n",
              " ({'last_letter': 'a'}, 'female'),\n",
              " ({'last_letter': 'y'}, 'female'),\n",
              " ({'last_letter': 'e'}, 'female'),\n",
              " ({'last_letter': 'e'}, 'female'),\n",
              " ({'last_letter': 'n'}, 'female'),\n",
              " ({'last_letter': 'a'}, 'female'),\n",
              " ({'last_letter': 'a'}, 'female'),\n",
              " ({'last_letter': 't'}, 'male'),\n",
              " ({'last_letter': 's'}, 'male'),\n",
              " ({'last_letter': 'e'}, 'female'),\n",
              " ({'last_letter': 'e'}, 'female'),\n",
              " ({'last_letter': 'f'}, 'male'),\n",
              " ({'last_letter': 'n'}, 'male'),\n",
              " ({'last_letter': 'm'}, 'male'),\n",
              " ({'last_letter': 'n'}, 'male'),\n",
              " ({'last_letter': 'n'}, 'male'),\n",
              " ({'last_letter': 'e'}, 'female'),\n",
              " ({'last_letter': 'n'}, 'female'),\n",
              " ({'last_letter': 'e'}, 'male'),\n",
              " ({'last_letter': 'c'}, 'male'),\n",
              " ({'last_letter': 'i'}, 'female'),\n",
              " ({'last_letter': 'e'}, 'female'),\n",
              " ({'last_letter': 'n'}, 'male'),\n",
              " ({'last_letter': 'e'}, 'female'),\n",
              " ({'last_letter': 'e'}, 'male'),\n",
              " ({'last_letter': 'a'}, 'female'),\n",
              " ({'last_letter': 'i'}, 'female'),\n",
              " ({'last_letter': 's'}, 'male'),\n",
              " ({'last_letter': 'i'}, 'male'),\n",
              " ({'last_letter': 'a'}, 'female'),\n",
              " ({'last_letter': 'i'}, 'female'),\n",
              " ({'last_letter': 'h'}, 'male'),\n",
              " ({'last_letter': 'n'}, 'male'),\n",
              " ({'last_letter': 's'}, 'male'),\n",
              " ({'last_letter': 'a'}, 'female'),\n",
              " ({'last_letter': 's'}, 'male'),\n",
              " ({'last_letter': 'l'}, 'female'),\n",
              " ({'last_letter': 'e'}, 'male'),\n",
              " ({'last_letter': 'e'}, 'female'),\n",
              " ({'last_letter': 'n'}, 'female'),\n",
              " ({'last_letter': 'e'}, 'female'),\n",
              " ({'last_letter': 'i'}, 'female'),\n",
              " ({'last_letter': 'e'}, 'female'),\n",
              " ({'last_letter': 'r'}, 'male'),\n",
              " ({'last_letter': 'l'}, 'male'),\n",
              " ({'last_letter': 'e'}, 'female'),\n",
              " ({'last_letter': 'd'}, 'male'),\n",
              " ({'last_letter': 'a'}, 'female'),\n",
              " ({'last_letter': 'e'}, 'male'),\n",
              " ({'last_letter': 'y'}, 'female'),\n",
              " ({'last_letter': 'a'}, 'female'),\n",
              " ({'last_letter': 't'}, 'female'),\n",
              " ({'last_letter': 'y'}, 'female'),\n",
              " ({'last_letter': 'n'}, 'male'),\n",
              " ({'last_letter': 'a'}, 'female'),\n",
              " ({'last_letter': 'b'}, 'female'),\n",
              " ({'last_letter': 'a'}, 'female'),\n",
              " ({'last_letter': 'n'}, 'male'),\n",
              " ({'last_letter': 'd'}, 'male'),\n",
              " ({'last_letter': 'e'}, 'female'),\n",
              " ({'last_letter': 't'}, 'male'),\n",
              " ({'last_letter': 'n'}, 'female'),\n",
              " ({'last_letter': 'e'}, 'female'),\n",
              " ({'last_letter': 'e'}, 'female'),\n",
              " ({'last_letter': 'e'}, 'female'),\n",
              " ({'last_letter': 'n'}, 'female'),\n",
              " ({'last_letter': 'a'}, 'female'),\n",
              " ({'last_letter': 'e'}, 'male'),\n",
              " ({'last_letter': 'e'}, 'female'),\n",
              " ({'last_letter': 'a'}, 'female'),\n",
              " ({'last_letter': 'a'}, 'female'),\n",
              " ({'last_letter': 'e'}, 'female'),\n",
              " ({'last_letter': 'n'}, 'female'),\n",
              " ({'last_letter': 's'}, 'male'),\n",
              " ({'last_letter': 'i'}, 'female'),\n",
              " ({'last_letter': 'e'}, 'female'),\n",
              " ({'last_letter': 'e'}, 'male'),\n",
              " ({'last_letter': 'e'}, 'female'),\n",
              " ({'last_letter': 'n'}, 'female'),\n",
              " ({'last_letter': 'l'}, 'female'),\n",
              " ({'last_letter': 'w'}, 'male'),\n",
              " ({'last_letter': 'a'}, 'female'),\n",
              " ({'last_letter': 'n'}, 'male'),\n",
              " ({'last_letter': 'l'}, 'female'),\n",
              " ({'last_letter': 'a'}, 'female'),\n",
              " ({'last_letter': 'd'}, 'male'),\n",
              " ({'last_letter': 'e'}, 'female'),\n",
              " ({'last_letter': 'a'}, 'female'),\n",
              " ({'last_letter': 'h'}, 'male'),\n",
              " ({'last_letter': 'e'}, 'female'),\n",
              " ({'last_letter': 'e'}, 'female'),\n",
              " ({'last_letter': 'e'}, 'female'),\n",
              " ({'last_letter': 'd'}, 'male'),\n",
              " ({'last_letter': 'y'}, 'female'),\n",
              " ({'last_letter': 'y'}, 'female'),\n",
              " ({'last_letter': 'a'}, 'female'),\n",
              " ({'last_letter': 'e'}, 'male'),\n",
              " ({'last_letter': 's'}, 'female'),\n",
              " ({'last_letter': 'a'}, 'female'),\n",
              " ({'last_letter': 'l'}, 'female'),\n",
              " ({'last_letter': 'm'}, 'male'),\n",
              " ({'last_letter': 'a'}, 'female'),\n",
              " ({'last_letter': 'n'}, 'female'),\n",
              " ({'last_letter': 'w'}, 'female'),\n",
              " ({'last_letter': 'd'}, 'female'),\n",
              " ({'last_letter': 'e'}, 'male'),\n",
              " ({'last_letter': 'y'}, 'male'),\n",
              " ({'last_letter': 'e'}, 'female'),\n",
              " ({'last_letter': 'a'}, 'female'),\n",
              " ({'last_letter': 'a'}, 'female'),\n",
              " ({'last_letter': 'd'}, 'male'),\n",
              " ({'last_letter': 't'}, 'male'),\n",
              " ({'last_letter': 'h'}, 'male'),\n",
              " ({'last_letter': 'a'}, 'female'),\n",
              " ({'last_letter': 'k'}, 'male'),\n",
              " ({'last_letter': 'y'}, 'male'),\n",
              " ({'last_letter': 'i'}, 'female'),\n",
              " ({'last_letter': 'y'}, 'male'),\n",
              " ({'last_letter': 'n'}, 'male'),\n",
              " ({'last_letter': 'h'}, 'male'),\n",
              " ({'last_letter': 'i'}, 'female'),\n",
              " ({'last_letter': 'a'}, 'female'),\n",
              " ({'last_letter': 'l'}, 'female'),\n",
              " ({'last_letter': 'a'}, 'female'),\n",
              " ({'last_letter': 'y'}, 'female'),\n",
              " ({'last_letter': 'i'}, 'female'),\n",
              " ({'last_letter': 'a'}, 'female'),\n",
              " ({'last_letter': 't'}, 'male'),\n",
              " ({'last_letter': 'n'}, 'male'),\n",
              " ({'last_letter': 'r'}, 'male'),\n",
              " ({'last_letter': 'a'}, 'female'),\n",
              " ({'last_letter': 'e'}, 'female'),\n",
              " ({'last_letter': 'e'}, 'male'),\n",
              " ({'last_letter': 'n'}, 'female'),\n",
              " ({'last_letter': 'a'}, 'female'),\n",
              " ({'last_letter': 'n'}, 'female'),\n",
              " ({'last_letter': 'e'}, 'female'),\n",
              " ({'last_letter': 'e'}, 'male'),\n",
              " ({'last_letter': 'n'}, 'female'),\n",
              " ({'last_letter': 's'}, 'male'),\n",
              " ({'last_letter': 'e'}, 'female'),\n",
              " ({'last_letter': 'f'}, 'male'),\n",
              " ({'last_letter': 'a'}, 'female'),\n",
              " ({'last_letter': 'e'}, 'male'),\n",
              " ({'last_letter': 'y'}, 'female'),\n",
              " ({'last_letter': 'b'}, 'male'),\n",
              " ({'last_letter': 'e'}, 'female'),\n",
              " ({'last_letter': 'm'}, 'female'),\n",
              " ({'last_letter': 'a'}, 'female'),\n",
              " ({'last_letter': 'a'}, 'female'),\n",
              " ({'last_letter': 'o'}, 'male'),\n",
              " ({'last_letter': 'n'}, 'female'),\n",
              " ({'last_letter': 'e'}, 'male'),\n",
              " ({'last_letter': 'a'}, 'female'),\n",
              " ({'last_letter': 'e'}, 'female'),\n",
              " ({'last_letter': 'e'}, 'female'),\n",
              " ({'last_letter': 't'}, 'male'),\n",
              " ({'last_letter': 'e'}, 'female'),\n",
              " ({'last_letter': 'a'}, 'female'),\n",
              " ({'last_letter': 't'}, 'female'),\n",
              " ({'last_letter': 'e'}, 'male'),\n",
              " ({'last_letter': 'n'}, 'male'),\n",
              " ({'last_letter': 'e'}, 'female'),\n",
              " ({'last_letter': 'e'}, 'female'),\n",
              " ({'last_letter': 'a'}, 'female'),\n",
              " ({'last_letter': 'e'}, 'female'),\n",
              " ({'last_letter': 'a'}, 'female'),\n",
              " ({'last_letter': 'e'}, 'female'),\n",
              " ({'last_letter': 'n'}, 'male'),\n",
              " ({'last_letter': 'n'}, 'male'),\n",
              " ({'last_letter': 'y'}, 'female'),\n",
              " ({'last_letter': 'e'}, 'male'),\n",
              " ({'last_letter': 'e'}, 'female'),\n",
              " ({'last_letter': 'e'}, 'female'),\n",
              " ({'last_letter': 'y'}, 'female'),\n",
              " ({'last_letter': 'y'}, 'male'),\n",
              " ({'last_letter': 'a'}, 'female'),\n",
              " ({'last_letter': 'a'}, 'female'),\n",
              " ({'last_letter': 'e'}, 'female'),\n",
              " ({'last_letter': 'e'}, 'female'),\n",
              " ({'last_letter': 'n'}, 'female'),\n",
              " ({'last_letter': 'n'}, 'male'),\n",
              " ({'last_letter': 'e'}, 'male'),\n",
              " ({'last_letter': 'n'}, 'female'),\n",
              " ({'last_letter': 'n'}, 'female'),\n",
              " ({'last_letter': 'e'}, 'female'),\n",
              " ({'last_letter': 'e'}, 'female'),\n",
              " ({'last_letter': 'e'}, 'female'),\n",
              " ({'last_letter': 'y'}, 'female'),\n",
              " ({'last_letter': 'a'}, 'female'),\n",
              " ({'last_letter': 'a'}, 'female'),\n",
              " ({'last_letter': 'e'}, 'female'),\n",
              " ({'last_letter': 'e'}, 'female'),\n",
              " ({'last_letter': 'a'}, 'female'),\n",
              " ({'last_letter': 'a'}, 'female'),\n",
              " ({'last_letter': 'h'}, 'female'),\n",
              " ({'last_letter': 'g'}, 'male'),\n",
              " ({'last_letter': 'e'}, 'female'),\n",
              " ({'last_letter': 's'}, 'male'),\n",
              " ({'last_letter': 'o'}, 'male'),\n",
              " ({'last_letter': 'n'}, 'female'),\n",
              " ({'last_letter': 'e'}, 'female'),\n",
              " ({'last_letter': 'd'}, 'male'),\n",
              " ({'last_letter': 'a'}, 'female'),\n",
              " ({'last_letter': 'e'}, 'female'),\n",
              " ({'last_letter': 'e'}, 'male'),\n",
              " ({'last_letter': 'l'}, 'female'),\n",
              " ({'last_letter': 'd'}, 'male'),\n",
              " ({'last_letter': 'd'}, 'male'),\n",
              " ({'last_letter': 'a'}, 'female'),\n",
              " ({'last_letter': 'y'}, 'male'),\n",
              " ({'last_letter': 'y'}, 'male'),\n",
              " ({'last_letter': 's'}, 'female'),\n",
              " ({'last_letter': 'e'}, 'female'),\n",
              " ({'last_letter': 't'}, 'male'),\n",
              " ({'last_letter': 't'}, 'male'),\n",
              " ({'last_letter': 'e'}, 'female'),\n",
              " ({'last_letter': 'e'}, 'female'),\n",
              " ({'last_letter': 'i'}, 'female'),\n",
              " ({'last_letter': 'd'}, 'female'),\n",
              " ({'last_letter': 'y'}, 'male'),\n",
              " ({'last_letter': 'e'}, 'female'),\n",
              " ({'last_letter': 'a'}, 'female'),\n",
              " ({'last_letter': 'k'}, 'male'),\n",
              " ({'last_letter': 'i'}, 'female'),\n",
              " ({'last_letter': 'd'}, 'male'),\n",
              " ({'last_letter': 'a'}, 'female'),\n",
              " ({'last_letter': 'a'}, 'female'),\n",
              " ({'last_letter': 'a'}, 'female'),\n",
              " ({'last_letter': 'r'}, 'female'),\n",
              " ({'last_letter': 'n'}, 'female'),\n",
              " ({'last_letter': 'a'}, 'female'),\n",
              " ({'last_letter': 'i'}, 'female'),\n",
              " ({'last_letter': 'a'}, 'female'),\n",
              " ({'last_letter': 'i'}, 'female'),\n",
              " ({'last_letter': 'a'}, 'female'),\n",
              " ({'last_letter': 'n'}, 'female'),\n",
              " ({'last_letter': 'e'}, 'female'),\n",
              " ({'last_letter': 'i'}, 'female'),\n",
              " ({'last_letter': 'y'}, 'female'),\n",
              " ({'last_letter': 'e'}, 'male'),\n",
              " ({'last_letter': 't'}, 'female'),\n",
              " ({'last_letter': 'y'}, 'male'),\n",
              " ({'last_letter': 'y'}, 'female'),\n",
              " ({'last_letter': 'y'}, 'female'),\n",
              " ({'last_letter': 'e'}, 'female'),\n",
              " ({'last_letter': 'y'}, 'male'),\n",
              " ({'last_letter': 'y'}, 'female'),\n",
              " ({'last_letter': 'e'}, 'female'),\n",
              " ({'last_letter': 'i'}, 'female'),\n",
              " ({'last_letter': 'a'}, 'female'),\n",
              " ({'last_letter': 'y'}, 'female'),\n",
              " ({'last_letter': 'a'}, 'female'),\n",
              " ({'last_letter': 'i'}, 'female'),\n",
              " ({'last_letter': 'o'}, 'female'),\n",
              " ({'last_letter': 'a'}, 'female'),\n",
              " ({'last_letter': 's'}, 'male'),\n",
              " ({'last_letter': 'e'}, 'female'),\n",
              " ({'last_letter': 'n'}, 'male'),\n",
              " ({'last_letter': 'r'}, 'male'),\n",
              " ({'last_letter': 'a'}, 'female'),\n",
              " ({'last_letter': 'l'}, 'male'),\n",
              " ({'last_letter': 'e'}, 'male'),\n",
              " ({'last_letter': 'n'}, 'female'),\n",
              " ({'last_letter': 'n'}, 'male'),\n",
              " ({'last_letter': 'a'}, 'female'),\n",
              " ({'last_letter': 'a'}, 'female'),\n",
              " ({'last_letter': 'n'}, 'male'),\n",
              " ({'last_letter': 'r'}, 'male'),\n",
              " ({'last_letter': 'e'}, 'female'),\n",
              " ({'last_letter': 'e'}, 'female'),\n",
              " ({'last_letter': 'a'}, 'female'),\n",
              " ({'last_letter': 'l'}, 'female'),\n",
              " ({'last_letter': 'e'}, 'female'),\n",
              " ({'last_letter': 'm'}, 'male'),\n",
              " ({'last_letter': 't'}, 'male'),\n",
              " ({'last_letter': 'y'}, 'male'),\n",
              " ({'last_letter': 'u'}, 'male'),\n",
              " ({'last_letter': 'r'}, 'male'),\n",
              " ({'last_letter': 'a'}, 'female'),\n",
              " ({'last_letter': 'l'}, 'female'),\n",
              " ({'last_letter': 'a'}, 'female'),\n",
              " ({'last_letter': 'a'}, 'female'),\n",
              " ({'last_letter': 'a'}, 'female'),\n",
              " ({'last_letter': 'a'}, 'female'),\n",
              " ({'last_letter': 'i'}, 'female'),\n",
              " ({'last_letter': 'n'}, 'female'),\n",
              " ({'last_letter': 's'}, 'male'),\n",
              " ({'last_letter': 'a'}, 'female'),\n",
              " ({'last_letter': 'y'}, 'female'),\n",
              " ({'last_letter': 'a'}, 'female'),\n",
              " ({'last_letter': 'l'}, 'female'),\n",
              " ({'last_letter': 'e'}, 'female'),\n",
              " ({'last_letter': 'n'}, 'male'),\n",
              " ({'last_letter': 'y'}, 'female'),\n",
              " ({'last_letter': 's'}, 'female'),\n",
              " ({'last_letter': 's'}, 'male'),\n",
              " ({'last_letter': 'a'}, 'female'),\n",
              " ({'last_letter': 'a'}, 'female'),\n",
              " ({'last_letter': 'e'}, 'female'),\n",
              " ({'last_letter': 'l'}, 'male'),\n",
              " ({'last_letter': 'a'}, 'female'),\n",
              " ({'last_letter': 'a'}, 'female'),\n",
              " ({'last_letter': 'r'}, 'male'),\n",
              " ({'last_letter': 'v'}, 'male'),\n",
              " ({'last_letter': 'n'}, 'female'),\n",
              " ({'last_letter': 'o'}, 'male'),\n",
              " ({'last_letter': 'm'}, 'male'),\n",
              " ({'last_letter': 'y'}, 'female'),\n",
              " ({'last_letter': 'h'}, 'male'),\n",
              " ({'last_letter': 's'}, 'male'),\n",
              " ({'last_letter': 'a'}, 'female'),\n",
              " ({'last_letter': 'a'}, 'female'),\n",
              " ({'last_letter': 'a'}, 'female'),\n",
              " ({'last_letter': 'n'}, 'male'),\n",
              " ({'last_letter': 's'}, 'female'),\n",
              " ({'last_letter': 'o'}, 'male'),\n",
              " ({'last_letter': 'e'}, 'female'),\n",
              " ({'last_letter': 't'}, 'female'),\n",
              " ({'last_letter': 's'}, 'female'),\n",
              " ({'last_letter': 'y'}, 'female'),\n",
              " ({'last_letter': 's'}, 'female'),\n",
              " ({'last_letter': 'n'}, 'male'),\n",
              " ({'last_letter': 'e'}, 'female'),\n",
              " ({'last_letter': 'e'}, 'female'),\n",
              " ({'last_letter': 'a'}, 'female'),\n",
              " ({'last_letter': 'e'}, 'female'),\n",
              " ({'last_letter': 'a'}, 'female'),\n",
              " ({'last_letter': 'o'}, 'male'),\n",
              " ({'last_letter': 'y'}, 'female'),\n",
              " ({'last_letter': 'o'}, 'male'),\n",
              " ({'last_letter': 'e'}, 'female'),\n",
              " ({'last_letter': 'a'}, 'female'),\n",
              " ({'last_letter': 'l'}, 'male'),\n",
              " ({'last_letter': 'e'}, 'male'),\n",
              " ({'last_letter': 'e'}, 'female'),\n",
              " ({'last_letter': 'e'}, 'female'),\n",
              " ({'last_letter': 'k'}, 'male'),\n",
              " ({'last_letter': 'a'}, 'female'),\n",
              " ({'last_letter': 'a'}, 'female'),\n",
              " ({'last_letter': 'a'}, 'female'),\n",
              " ({'last_letter': 'e'}, 'female'),\n",
              " ({'last_letter': 'e'}, 'female'),\n",
              " ({'last_letter': 'e'}, 'male'),\n",
              " ({'last_letter': 'n'}, 'female'),\n",
              " ({'last_letter': 'l'}, 'female'),\n",
              " ({'last_letter': 'e'}, 'female'),\n",
              " ({'last_letter': 'e'}, 'female'),\n",
              " ({'last_letter': 'a'}, 'female'),\n",
              " ({'last_letter': 'n'}, 'male'),\n",
              " ({'last_letter': 'a'}, 'female'),\n",
              " ({'last_letter': 'h'}, 'male'),\n",
              " ({'last_letter': 'd'}, 'female'),\n",
              " ({'last_letter': 'n'}, 'male'),\n",
              " ({'last_letter': 'e'}, 'female'),\n",
              " ({'last_letter': 'f'}, 'male'),\n",
              " ({'last_letter': 't'}, 'female'),\n",
              " ({'last_letter': 'e'}, 'female'),\n",
              " ({'last_letter': 's'}, 'female'),\n",
              " ({'last_letter': 'd'}, 'male'),\n",
              " ({'last_letter': 'a'}, 'female'),\n",
              " ({'last_letter': 'y'}, 'male'),\n",
              " ({'last_letter': 'e'}, 'female'),\n",
              " ({'last_letter': 'y'}, 'male'),\n",
              " ({'last_letter': 'h'}, 'male'),\n",
              " ({'last_letter': 'y'}, 'female'),\n",
              " ({'last_letter': 'a'}, 'female'),\n",
              " ({'last_letter': 'n'}, 'male'),\n",
              " ({'last_letter': 'e'}, 'female'),\n",
              " ({'last_letter': 'd'}, 'male'),\n",
              " ({'last_letter': 'o'}, 'male'),\n",
              " ({'last_letter': 'r'}, 'male'),\n",
              " ({'last_letter': 'e'}, 'male'),\n",
              " ({'last_letter': 'y'}, 'female'),\n",
              " ({'last_letter': 'a'}, 'female'),\n",
              " ({'last_letter': 'a'}, 'female'),\n",
              " ({'last_letter': 'i'}, 'female'),\n",
              " ({'last_letter': 'l'}, 'male'),\n",
              " ({'last_letter': 'i'}, 'female'),\n",
              " ({'last_letter': 'a'}, 'female'),\n",
              " ({'last_letter': 't'}, 'male'),\n",
              " ({'last_letter': 'a'}, 'female'),\n",
              " ({'last_letter': 'e'}, 'male'),\n",
              " ({'last_letter': 'n'}, 'female'),\n",
              " ({'last_letter': 'r'}, 'male'),\n",
              " ({'last_letter': 'y'}, 'female'),\n",
              " ({'last_letter': 'a'}, 'female'),\n",
              " ({'last_letter': 'h'}, 'male'),\n",
              " ({'last_letter': 'n'}, 'male'),\n",
              " ({'last_letter': 'n'}, 'male'),\n",
              " ({'last_letter': 'e'}, 'female'),\n",
              " ({'last_letter': 'e'}, 'female'),\n",
              " ({'last_letter': 'h'}, 'male'),\n",
              " ({'last_letter': 'd'}, 'male'),\n",
              " ({'last_letter': 'n'}, 'male'),\n",
              " ({'last_letter': 'e'}, 'male'),\n",
              " ({'last_letter': 'n'}, 'male'),\n",
              " ({'last_letter': 'e'}, 'female'),\n",
              " ({'last_letter': 'e'}, 'female'),\n",
              " ({'last_letter': 'n'}, 'male'),\n",
              " ({'last_letter': 'y'}, 'male'),\n",
              " ({'last_letter': 'n'}, 'female'),\n",
              " ({'last_letter': 'n'}, 'female'),\n",
              " ({'last_letter': 'a'}, 'female'),\n",
              " ({'last_letter': 'e'}, 'female'),\n",
              " ({'last_letter': 'y'}, 'male'),\n",
              " ({'last_letter': 'e'}, 'female'),\n",
              " ({'last_letter': 'f'}, 'male'),\n",
              " ({'last_letter': 'n'}, 'male'),\n",
              " ({'last_letter': 'a'}, 'female'),\n",
              " ({'last_letter': 'i'}, 'female'),\n",
              " ({'last_letter': 'm'}, 'female'),\n",
              " ({'last_letter': 'd'}, 'male'),\n",
              " ({'last_letter': 'a'}, 'female'),\n",
              " ({'last_letter': 'e'}, 'male'),\n",
              " ({'last_letter': 'o'}, 'male'),\n",
              " ({'last_letter': 'y'}, 'male'),\n",
              " ({'last_letter': 'l'}, 'female'),\n",
              " ({'last_letter': 'a'}, 'female'),\n",
              " ({'last_letter': 'y'}, 'male'),\n",
              " ({'last_letter': 'a'}, 'female'),\n",
              " ({'last_letter': 'e'}, 'male'),\n",
              " ({'last_letter': 'h'}, 'male'),\n",
              " ({'last_letter': 'n'}, 'male'),\n",
              " ({'last_letter': 'r'}, 'female'),\n",
              " ({'last_letter': 'a'}, 'female'),\n",
              " ({'last_letter': 'i'}, 'female'),\n",
              " ({'last_letter': 's'}, 'male'),\n",
              " ({'last_letter': 'h'}, 'female'),\n",
              " ({'last_letter': 'y'}, 'female'),\n",
              " ({'last_letter': 'a'}, 'female'),\n",
              " ({'last_letter': 'y'}, 'female'),\n",
              " ({'last_letter': 't'}, 'male'),\n",
              " ({'last_letter': 'a'}, 'female'),\n",
              " ({'last_letter': 'o'}, 'male'),\n",
              " ({'last_letter': 'a'}, 'female'),\n",
              " ({'last_letter': 'a'}, 'female'),\n",
              " ({'last_letter': 'n'}, 'male'),\n",
              " ({'last_letter': 'n'}, 'male'),\n",
              " ({'last_letter': 'e'}, 'female'),\n",
              " ({'last_letter': 'e'}, 'female'),\n",
              " ({'last_letter': 'l'}, 'male'),\n",
              " ({'last_letter': 'a'}, 'female'),\n",
              " ({'last_letter': 'd'}, 'male'),\n",
              " ({'last_letter': 'a'}, 'female'),\n",
              " ({'last_letter': 's'}, 'male'),\n",
              " ({'last_letter': 'e'}, 'male'),\n",
              " ({'last_letter': 'a'}, 'male'),\n",
              " ({'last_letter': 'a'}, 'female'),\n",
              " ({'last_letter': 't'}, 'male'),\n",
              " ({'last_letter': 'r'}, 'female'),\n",
              " ({'last_letter': 'd'}, 'male'),\n",
              " ({'last_letter': 'e'}, 'female'),\n",
              " ({'last_letter': 'l'}, 'male'),\n",
              " ({'last_letter': 'y'}, 'male'),\n",
              " ({'last_letter': 'e'}, 'female'),\n",
              " ({'last_letter': 'i'}, 'male'),\n",
              " ({'last_letter': 's'}, 'male'),\n",
              " ({'last_letter': 'e'}, 'male'),\n",
              " ({'last_letter': 't'}, 'male'),\n",
              " ({'last_letter': 'l'}, 'male'),\n",
              " ({'last_letter': 't'}, 'male'),\n",
              " ({'last_letter': 's'}, 'male'),\n",
              " ({'last_letter': 'a'}, 'male'),\n",
              " ({'last_letter': 'e'}, 'female'),\n",
              " ({'last_letter': 'a'}, 'female'),\n",
              " ({'last_letter': 'a'}, 'female'),\n",
              " ({'last_letter': 'i'}, 'male'),\n",
              " ({'last_letter': 'a'}, 'female'),\n",
              " ({'last_letter': 'a'}, 'female'),\n",
              " ({'last_letter': 't'}, 'female'),\n",
              " ({'last_letter': 'e'}, 'male'),\n",
              " ({'last_letter': 't'}, 'male'),\n",
              " ({'last_letter': 'a'}, 'female'),\n",
              " ({'last_letter': 'l'}, 'male'),\n",
              " ({'last_letter': 'a'}, 'male'),\n",
              " ({'last_letter': 'a'}, 'female'),\n",
              " ({'last_letter': 'l'}, 'male'),\n",
              " ({'last_letter': 's'}, 'male'),\n",
              " ({'last_letter': 'e'}, 'female'),\n",
              " ({'last_letter': 'a'}, 'female'),\n",
              " ({'last_letter': 'i'}, 'female'),\n",
              " ({'last_letter': 'a'}, 'female'),\n",
              " ({'last_letter': 'e'}, 'male'),\n",
              " ({'last_letter': 'a'}, 'female'),\n",
              " ({'last_letter': 'a'}, 'female'),\n",
              " ({'last_letter': 'a'}, 'male'),\n",
              " ({'last_letter': 'l'}, 'male'),\n",
              " ({'last_letter': 'r'}, 'male'),\n",
              " ({'last_letter': 'e'}, 'female'),\n",
              " ({'last_letter': 'y'}, 'female'),\n",
              " ({'last_letter': 'l'}, 'female'),\n",
              " ({'last_letter': 'e'}, 'male'),\n",
              " ({'last_letter': 'h'}, 'male'),\n",
              " ({'last_letter': 'e'}, 'female'),\n",
              " ({'last_letter': 'a'}, 'female'),\n",
              " ({'last_letter': 's'}, 'female'),\n",
              " ({'last_letter': 'e'}, 'male'),\n",
              " ({'last_letter': 'a'}, 'female'),\n",
              " ({'last_letter': 'a'}, 'female'),\n",
              " ({'last_letter': 'd'}, 'male'),\n",
              " ({'last_letter': 'e'}, 'female'),\n",
              " ({'last_letter': 'd'}, 'male'),\n",
              " ({'last_letter': 'i'}, 'female'),\n",
              " ({'last_letter': 'e'}, 'female'),\n",
              " ({'last_letter': 'a'}, 'female'),\n",
              " ({'last_letter': 'e'}, 'female'),\n",
              " ({'last_letter': 'n'}, 'female'),\n",
              " ({'last_letter': 'e'}, 'female'),\n",
              " ({'last_letter': 'a'}, 'female'),\n",
              " ({'last_letter': 'e'}, 'female'),\n",
              " ({'last_letter': 'a'}, 'female'),\n",
              " ({'last_letter': 'e'}, 'female'),\n",
              " ({'last_letter': 'y'}, 'male'),\n",
              " ({'last_letter': 'a'}, 'female'),\n",
              " ({'last_letter': 'o'}, 'male'),\n",
              " ({'last_letter': 'a'}, 'female'),\n",
              " ({'last_letter': 't'}, 'male'),\n",
              " ({'last_letter': 'y'}, 'male'),\n",
              " ({'last_letter': 'l'}, 'male'),\n",
              " ({'last_letter': 'l'}, 'female'),\n",
              " ({'last_letter': 'y'}, 'male'),\n",
              " ({'last_letter': 'l'}, 'female'),\n",
              " ({'last_letter': 'n'}, 'male'),\n",
              " ({'last_letter': 'a'}, 'female'),\n",
              " ({'last_letter': 'e'}, 'female'),\n",
              " ({'last_letter': 'p'}, 'male'),\n",
              " ({'last_letter': 'e'}, 'female'),\n",
              " ({'last_letter': 'e'}, 'female'),\n",
              " ({'last_letter': 'a'}, 'female'),\n",
              " ({'last_letter': 'n'}, 'male'),\n",
              " ({'last_letter': 'a'}, 'female'),\n",
              " ({'last_letter': 'a'}, 'female'),\n",
              " ({'last_letter': 'a'}, 'female'),\n",
              " ({'last_letter': 'i'}, 'female'),\n",
              " ({'last_letter': 'n'}, 'female'),\n",
              " ({'last_letter': 'n'}, 'male'),\n",
              " ({'last_letter': 'a'}, 'female'),\n",
              " ({'last_letter': 'a'}, 'female'),\n",
              " ({'last_letter': 'i'}, 'female'),\n",
              " ({'last_letter': 'y'}, 'male'),\n",
              " ({'last_letter': 'e'}, 'female'),\n",
              " ({'last_letter': 'a'}, 'female'),\n",
              " ({'last_letter': 's'}, 'male'),\n",
              " ({'last_letter': 's'}, 'male'),\n",
              " ({'last_letter': 'i'}, 'female'),\n",
              " ({'last_letter': 's'}, 'male'),\n",
              " ({'last_letter': 'i'}, 'female'),\n",
              " ({'last_letter': 's'}, 'female'),\n",
              " ({'last_letter': 'y'}, 'male'),\n",
              " ({'last_letter': 'd'}, 'male'),\n",
              " ({'last_letter': 'e'}, 'female'),\n",
              " ({'last_letter': 'e'}, 'female'),\n",
              " ({'last_letter': 'n'}, 'male'),\n",
              " ({'last_letter': 'a'}, 'female'),\n",
              " ({'last_letter': 'a'}, 'female'),\n",
              " ({'last_letter': 'a'}, 'female'),\n",
              " ({'last_letter': 'g'}, 'male'),\n",
              " ({'last_letter': 'a'}, 'female'),\n",
              " ({'last_letter': 'e'}, 'male'),\n",
              " ({'last_letter': 'b'}, 'male'),\n",
              " ({'last_letter': 'n'}, 'female'),\n",
              " ({'last_letter': 'e'}, 'female'),\n",
              " ({'last_letter': 'l'}, 'female'),\n",
              " ({'last_letter': 'l'}, 'male'),\n",
              " ({'last_letter': 'e'}, 'male'),\n",
              " ({'last_letter': 'e'}, 'female'),\n",
              " ({'last_letter': 'e'}, 'male'),\n",
              " ({'last_letter': 'e'}, 'female'),\n",
              " ({'last_letter': 'e'}, 'female'),\n",
              " ({'last_letter': 'e'}, 'male'),\n",
              " ({'last_letter': 'l'}, 'female'),\n",
              " ({'last_letter': 'o'}, 'male'),\n",
              " ({'last_letter': 'e'}, 'male'),\n",
              " ({'last_letter': 'm'}, 'male'),\n",
              " ({'last_letter': 'y'}, 'male'),\n",
              " ({'last_letter': 'a'}, 'female'),\n",
              " ({'last_letter': 'a'}, 'female'),\n",
              " ({'last_letter': 'a'}, 'female'),\n",
              " ({'last_letter': 'n'}, 'female'),\n",
              " ({'last_letter': 'y'}, 'female'),\n",
              " ({'last_letter': 'd'}, 'male'),\n",
              " ({'last_letter': 'y'}, 'female'),\n",
              " ({'last_letter': 'e'}, 'female'),\n",
              " ({'last_letter': 'a'}, 'female'),\n",
              " ({'last_letter': 'y'}, 'female'),\n",
              " ({'last_letter': 'a'}, 'female'),\n",
              " ({'last_letter': 'm'}, 'male'),\n",
              " ({'last_letter': 'y'}, 'female'),\n",
              " ({'last_letter': 's'}, 'male'),\n",
              " ({'last_letter': 'a'}, 'female'),\n",
              " ({'last_letter': 'e'}, 'female'),\n",
              " ({'last_letter': 'a'}, 'female'),\n",
              " ({'last_letter': 'l'}, 'female'),\n",
              " ({'last_letter': 'a'}, 'female'),\n",
              " ({'last_letter': 'a'}, 'female'),\n",
              " ({'last_letter': 'l'}, 'male'),\n",
              " ({'last_letter': 'l'}, 'male'),\n",
              " ({'last_letter': 'h'}, 'female'),\n",
              " ({'last_letter': 'o'}, 'male'),\n",
              " ({'last_letter': 'n'}, 'female'),\n",
              " ({'last_letter': 'a'}, 'female'),\n",
              " ({'last_letter': 'e'}, 'female'),\n",
              " ({'last_letter': 'e'}, 'female'),\n",
              " ({'last_letter': 'r'}, 'female'),\n",
              " ({'last_letter': 'n'}, 'female'),\n",
              " ({'last_letter': 'e'}, 'female'),\n",
              " ({'last_letter': 'a'}, 'female'),\n",
              " ({'last_letter': 'e'}, 'female'),\n",
              " ({'last_letter': 'a'}, 'female'),\n",
              " ({'last_letter': 'h'}, 'female'),\n",
              " ({'last_letter': 'a'}, 'female'),\n",
              " ({'last_letter': 's'}, 'female'),\n",
              " ({'last_letter': 'a'}, 'female'),\n",
              " ({'last_letter': 'h'}, 'female'),\n",
              " ({'last_letter': 'a'}, 'female'),\n",
              " ({'last_letter': 'e'}, 'female'),\n",
              " ({'last_letter': 'i'}, 'female'),\n",
              " ({'last_letter': 'e'}, 'male'),\n",
              " ({'last_letter': 'h'}, 'female'),\n",
              " ({'last_letter': 'a'}, 'female'),\n",
              " ({'last_letter': 'e'}, 'female'),\n",
              " ({'last_letter': 'a'}, 'female'),\n",
              " ({'last_letter': 'a'}, 'female'),\n",
              " ({'last_letter': 't'}, 'female'),\n",
              " ({'last_letter': 'n'}, 'female'),\n",
              " ({'last_letter': 'a'}, 'female'),\n",
              " ({'last_letter': 'a'}, 'female'),\n",
              " ({'last_letter': 'a'}, 'female'),\n",
              " ({'last_letter': 'a'}, 'female'),\n",
              " ({'last_letter': 'o'}, 'male'),\n",
              " ({'last_letter': 'y'}, 'male'),\n",
              " ({'last_letter': 'e'}, 'female'),\n",
              " ({'last_letter': 'i'}, 'female'),\n",
              " ({'last_letter': 'y'}, 'female'),\n",
              " ({'last_letter': 'a'}, 'female'),\n",
              " ({'last_letter': 'e'}, 'male'),\n",
              " ({'last_letter': 'a'}, 'female'),\n",
              " ({'last_letter': 'a'}, 'female'),\n",
              " ({'last_letter': 'n'}, 'male'),\n",
              " ({'last_letter': 'y'}, 'female'),\n",
              " ({'last_letter': 'd'}, 'male'),\n",
              " ({'last_letter': 'y'}, 'male'),\n",
              " ({'last_letter': 'e'}, 'male'),\n",
              " ({'last_letter': 'e'}, 'male'),\n",
              " ({'last_letter': 'e'}, 'female'),\n",
              " ({'last_letter': 'l'}, 'male'),\n",
              " ({'last_letter': 'e'}, 'female'),\n",
              " ({'last_letter': 't'}, 'female'),\n",
              " ({'last_letter': 'r'}, 'male'),\n",
              " ({'last_letter': 'h'}, 'male'),\n",
              " ({'last_letter': 'e'}, 'male'),\n",
              " ({'last_letter': 'a'}, 'female'),\n",
              " ({'last_letter': 'h'}, 'female'),\n",
              " ({'last_letter': 'a'}, 'female'),\n",
              " ({'last_letter': 'd'}, 'male'),\n",
              " ({'last_letter': 'y'}, 'male'),\n",
              " ({'last_letter': 'e'}, 'male'),\n",
              " ({'last_letter': 'n'}, 'female'),\n",
              " ({'last_letter': 'a'}, 'female'),\n",
              " ({'last_letter': 'l'}, 'female'),\n",
              " ({'last_letter': 'e'}, 'male'),\n",
              " ({'last_letter': 'n'}, 'male'),\n",
              " ({'last_letter': 'n'}, 'female'),\n",
              " ({'last_letter': 'a'}, 'female'),\n",
              " ({'last_letter': 'a'}, 'female'),\n",
              " ({'last_letter': 'o'}, 'male'),\n",
              " ({'last_letter': 'i'}, 'female'),\n",
              " ({'last_letter': 'i'}, 'female'),\n",
              " ({'last_letter': 'l'}, 'male'),\n",
              " ({'last_letter': 'n'}, 'male'),\n",
              " ({'last_letter': 'a'}, 'female'),\n",
              " ({'last_letter': 'a'}, 'female'),\n",
              " ({'last_letter': 'l'}, 'male'),\n",
              " ({'last_letter': 'e'}, 'male'),\n",
              " ({'last_letter': 'y'}, 'female'),\n",
              " ({'last_letter': 'a'}, 'female'),\n",
              " ({'last_letter': 'e'}, 'female'),\n",
              " ({'last_letter': 'e'}, 'female'),\n",
              " ({'last_letter': 't'}, 'male'),\n",
              " ({'last_letter': 'e'}, 'female'),\n",
              " ({'last_letter': 'l'}, 'female'),\n",
              " ({'last_letter': 'l'}, 'female'),\n",
              " ({'last_letter': 'n'}, 'male'),\n",
              " ({'last_letter': 'r'}, 'female'),\n",
              " ({'last_letter': 'a'}, 'female'),\n",
              " ({'last_letter': 'a'}, 'female'),\n",
              " ({'last_letter': 'd'}, 'male'),\n",
              " ({'last_letter': 'e'}, 'female'),\n",
              " ({'last_letter': 't'}, 'male'),\n",
              " ({'last_letter': 'y'}, 'female'),\n",
              " ({'last_letter': 'a'}, 'female'),\n",
              " ({'last_letter': 'a'}, 'female'),\n",
              " ({'last_letter': 'l'}, 'female'),\n",
              " ({'last_letter': 't'}, 'female'),\n",
              " ({'last_letter': 'n'}, 'female'),\n",
              " ({'last_letter': 'h'}, 'male'),\n",
              " ({'last_letter': 'n'}, 'female'),\n",
              " ({'last_letter': 'e'}, 'female'),\n",
              " ({'last_letter': 'f'}, 'male'),\n",
              " ({'last_letter': 'n'}, 'male'),\n",
              " ({'last_letter': 'e'}, 'male'),\n",
              " ({'last_letter': 'a'}, 'female'),\n",
              " ({'last_letter': 'a'}, 'female'),\n",
              " ({'last_letter': 'd'}, 'male'),\n",
              " ({'last_letter': 'e'}, 'female'),\n",
              " ({'last_letter': 'i'}, 'female'),\n",
              " ({'last_letter': 'a'}, 'female'),\n",
              " ({'last_letter': 's'}, 'female'),\n",
              " ({'last_letter': 'h'}, 'male'),\n",
              " ({'last_letter': 'n'}, 'male'),\n",
              " ({'last_letter': 'y'}, 'male'),\n",
              " ({'last_letter': 'a'}, 'female'),\n",
              " ({'last_letter': 'n'}, 'female'),\n",
              " ({'last_letter': 'a'}, 'female'),\n",
              " ({'last_letter': 'r'}, 'male'),\n",
              " ({'last_letter': 'a'}, 'female'),\n",
              " ({'last_letter': 'e'}, 'female'),\n",
              " ({'last_letter': 'n'}, 'female'),\n",
              " ({'last_letter': 't'}, 'male'),\n",
              " ({'last_letter': 'a'}, 'female'),\n",
              " ({'last_letter': 'n'}, 'female'),\n",
              " ({'last_letter': 'e'}, 'female'),\n",
              " ({'last_letter': 'a'}, 'female'),\n",
              " ({'last_letter': 'e'}, 'male'),\n",
              " ({'last_letter': 'y'}, 'male'),\n",
              " ({'last_letter': 'r'}, 'male'),\n",
              " ({'last_letter': 'e'}, 'female'),\n",
              " ({'last_letter': 's'}, 'male'),\n",
              " ({'last_letter': 'a'}, 'female'),\n",
              " ({'last_letter': 'd'}, 'male'),\n",
              " ({'last_letter': 'e'}, 'female'),\n",
              " ({'last_letter': 'a'}, 'female'),\n",
              " ({'last_letter': 'n'}, 'female'),\n",
              " ({'last_letter': 'o'}, 'male'),\n",
              " ({'last_letter': 'n'}, 'male'),\n",
              " ({'last_letter': 'a'}, 'female'),\n",
              " ({'last_letter': 'a'}, 'female'),\n",
              " ({'last_letter': 'i'}, 'female'),\n",
              " ({'last_letter': 'a'}, 'female'),\n",
              " ({'last_letter': 'e'}, 'male'),\n",
              " ({'last_letter': 'a'}, 'female'),\n",
              " ({'last_letter': 'i'}, 'female'),\n",
              " ({'last_letter': 'a'}, 'female'),\n",
              " ({'last_letter': 'l'}, 'female'),\n",
              " ({'last_letter': 'y'}, 'female'),\n",
              " ({'last_letter': 'n'}, 'female'),\n",
              " ({'last_letter': 'n'}, 'female'),\n",
              " ({'last_letter': 'y'}, 'female'),\n",
              " ({'last_letter': 's'}, 'male'),\n",
              " ({'last_letter': 'e'}, 'female'),\n",
              " ({'last_letter': 'y'}, 'female'),\n",
              " ({'last_letter': 'e'}, 'female'),\n",
              " ({'last_letter': 'n'}, 'male'),\n",
              " ({'last_letter': 'p'}, 'male'),\n",
              " ({'last_letter': 'o'}, 'male'),\n",
              " ({'last_letter': 'n'}, 'male'),\n",
              " ({'last_letter': 'd'}, 'male'),\n",
              " ({'last_letter': 'e'}, 'female'),\n",
              " ({'last_letter': 'n'}, 'male'),\n",
              " ({'last_letter': 'f'}, 'male'),\n",
              " ({'last_letter': 'a'}, 'female'),\n",
              " ({'last_letter': 'a'}, 'female'),\n",
              " ({'last_letter': 'l'}, 'female'),\n",
              " ({'last_letter': 'a'}, 'female'),\n",
              " ({'last_letter': 'r'}, 'male'),\n",
              " ({'last_letter': 'l'}, 'female'),\n",
              " ({'last_letter': 'e'}, 'female'),\n",
              " ({'last_letter': 'e'}, 'female'),\n",
              " ({'last_letter': 'n'}, 'female'),\n",
              " ({'last_letter': 't'}, 'male'),\n",
              " ({'last_letter': 'r'}, 'male'),\n",
              " ({'last_letter': 'y'}, 'male'),\n",
              " ({'last_letter': 'k'}, 'male'),\n",
              " ({'last_letter': 'n'}, 'male'),\n",
              " ({'last_letter': 'a'}, 'female'),\n",
              " ({'last_letter': 'e'}, 'male'),\n",
              " ({'last_letter': 'y'}, 'female'),\n",
              " ({'last_letter': 'e'}, 'female'),\n",
              " ({'last_letter': 'a'}, 'female'),\n",
              " ({'last_letter': 'e'}, 'female'),\n",
              " ({'last_letter': 'd'}, 'male'),\n",
              " ({'last_letter': 'o'}, 'male'),\n",
              " ({'last_letter': 'e'}, 'female'),\n",
              " ({'last_letter': 'e'}, 'male'),\n",
              " ({'last_letter': 's'}, 'male'),\n",
              " ({'last_letter': 'y'}, 'female'),\n",
              " ({'last_letter': 'e'}, 'female'),\n",
              " ({'last_letter': 't'}, 'male'),\n",
              " ({'last_letter': 'e'}, 'female'),\n",
              " ({'last_letter': 'e'}, 'female'),\n",
              " ({'last_letter': 'a'}, 'female'),\n",
              " ({'last_letter': 'a'}, 'female'),\n",
              " ({'last_letter': 'y'}, 'male'),\n",
              " ({'last_letter': 'a'}, 'female'),\n",
              " ({'last_letter': 'i'}, 'female'),\n",
              " ({'last_letter': 'o'}, 'male'),\n",
              " ({'last_letter': 'o'}, 'male'),\n",
              " ({'last_letter': 'y'}, 'female'),\n",
              " ({'last_letter': 'n'}, 'male'),\n",
              " ({'last_letter': 'n'}, 'male'),\n",
              " ({'last_letter': 'e'}, 'female'),\n",
              " ({'last_letter': 'l'}, 'male'),\n",
              " ({'last_letter': 'e'}, 'female'),\n",
              " ({'last_letter': 'l'}, 'male'),\n",
              " ({'last_letter': 'y'}, 'female'),\n",
              " ({'last_letter': 'a'}, 'female'),\n",
              " ({'last_letter': 'o'}, 'male'),\n",
              " ({'last_letter': 'n'}, 'male'),\n",
              " ({'last_letter': 'd'}, 'female'),\n",
              " ({'last_letter': 'a'}, 'female'),\n",
              " ({'last_letter': 'e'}, 'female'),\n",
              " ({'last_letter': 'e'}, 'female'),\n",
              " ({'last_letter': 'y'}, 'female'),\n",
              " ({'last_letter': 'e'}, 'female'),\n",
              " ({'last_letter': 'a'}, 'female'),\n",
              " ({'last_letter': 'a'}, 'female'),\n",
              " ({'last_letter': 'e'}, 'female'),\n",
              " ({'last_letter': 'e'}, 'female'),\n",
              " ({'last_letter': 'y'}, 'male'),\n",
              " ({'last_letter': 'a'}, 'female'),\n",
              " ({'last_letter': 'e'}, 'female'),\n",
              " ({'last_letter': 'i'}, 'male'),\n",
              " ({'last_letter': 'o'}, 'male'),\n",
              " ({'last_letter': 'a'}, 'female'),\n",
              " ({'last_letter': 'a'}, 'female'),\n",
              " ({'last_letter': 't'}, 'male'),\n",
              " ({'last_letter': 'a'}, 'female'),\n",
              " ({'last_letter': 'o'}, 'male'),\n",
              " ({'last_letter': 'e'}, 'female'),\n",
              " ({'last_letter': 'e'}, 'female'),\n",
              " ({'last_letter': 'a'}, 'female'),\n",
              " ({'last_letter': 'e'}, 'female'),\n",
              " ({'last_letter': 's'}, 'male'),\n",
              " ({'last_letter': 'e'}, 'female'),\n",
              " ({'last_letter': 'y'}, 'male'),\n",
              " ({'last_letter': 'o'}, 'male'),\n",
              " ({'last_letter': 'e'}, 'female'),\n",
              " ({'last_letter': 'a'}, 'female'),\n",
              " ({'last_letter': 'e'}, 'female'),\n",
              " ({'last_letter': 'a'}, 'female'),\n",
              " ({'last_letter': 'a'}, 'female'),\n",
              " ({'last_letter': 'e'}, 'female'),\n",
              " ({'last_letter': 's'}, 'female'),\n",
              " ({'last_letter': 'm'}, 'male'),\n",
              " ({'last_letter': 'a'}, 'female'),\n",
              " ({'last_letter': 'r'}, 'male'),\n",
              " ({'last_letter': 'p'}, 'male'),\n",
              " ({'last_letter': 'a'}, 'female'),\n",
              " ({'last_letter': 'e'}, 'female'),\n",
              " ({'last_letter': 'e'}, 'female'),\n",
              " ({'last_letter': 'r'}, 'male'),\n",
              " ({'last_letter': 'e'}, 'female'),\n",
              " ({'last_letter': 'y'}, 'male'),\n",
              " ({'last_letter': 'i'}, 'female'),\n",
              " ({'last_letter': 'l'}, 'male'),\n",
              " ({'last_letter': 'y'}, 'female'),\n",
              " ({'last_letter': 'e'}, 'female'),\n",
              " ({'last_letter': 'e'}, 'female'),\n",
              " ({'last_letter': 'e'}, 'male'),\n",
              " ({'last_letter': 'e'}, 'female'),\n",
              " ({'last_letter': 'a'}, 'female'),\n",
              " ({'last_letter': 'a'}, 'female'),\n",
              " ({'last_letter': 'r'}, 'male'),\n",
              " ({'last_letter': 'y'}, 'male'),\n",
              " ({'last_letter': 'o'}, 'male'),\n",
              " ({'last_letter': 'n'}, 'female'),\n",
              " ({'last_letter': 'e'}, 'female'),\n",
              " ({'last_letter': 'a'}, 'female'),\n",
              " ({'last_letter': 'e'}, 'female'),\n",
              " ({'last_letter': 'y'}, 'male'),\n",
              " ({'last_letter': 'e'}, 'male'),\n",
              " ({'last_letter': 'a'}, 'female'),\n",
              " ({'last_letter': 'n'}, 'male'),\n",
              " ({'last_letter': 'b'}, 'female'),\n",
              " ({'last_letter': 'r'}, 'male'),\n",
              " ({'last_letter': 'e'}, 'female'),\n",
              " ({'last_letter': 'e'}, 'male'),\n",
              " ({'last_letter': 'y'}, 'female'),\n",
              " ({'last_letter': 'a'}, 'female'),\n",
              " ({'last_letter': 'a'}, 'female'),\n",
              " ({'last_letter': 'n'}, 'male'),\n",
              " ({'last_letter': 'n'}, 'male'),\n",
              " ({'last_letter': 'e'}, 'female'),\n",
              " ({'last_letter': 'e'}, 'female'),\n",
              " ({'last_letter': 'a'}, 'female'),\n",
              " ({'last_letter': 'a'}, 'female'),\n",
              " ({'last_letter': 'i'}, 'male'),\n",
              " ({'last_letter': 'y'}, 'female'),\n",
              " ({'last_letter': 'a'}, 'female'),\n",
              " ({'last_letter': 'r'}, 'female'),\n",
              " ({'last_letter': 'a'}, 'male'),\n",
              " ({'last_letter': 'r'}, 'male'),\n",
              " ({'last_letter': 'n'}, 'male'),\n",
              " ({'last_letter': 'y'}, 'female'),\n",
              " ({'last_letter': 'a'}, 'female'),\n",
              " ({'last_letter': 'h'}, 'male'),\n",
              " ({'last_letter': 'a'}, 'female'),\n",
              " ({'last_letter': 'm'}, 'male'),\n",
              " ({'last_letter': 'a'}, 'female'),\n",
              " ({'last_letter': 'y'}, 'female'),\n",
              " ({'last_letter': 'e'}, 'male'),\n",
              " ({'last_letter': 'e'}, 'female'),\n",
              " ({'last_letter': 'n'}, 'male'),\n",
              " ({'last_letter': 'a'}, 'female'),\n",
              " ({'last_letter': 'i'}, 'male'),\n",
              " ({'last_letter': 'a'}, 'female'),\n",
              " ({'last_letter': 'm'}, 'female'),\n",
              " ({'last_letter': 'l'}, 'male'),\n",
              " ({'last_letter': 'l'}, 'male'),\n",
              " ({'last_letter': 'n'}, 'female'),\n",
              " ({'last_letter': 'e'}, 'female'),\n",
              " ({'last_letter': 'l'}, 'male'),\n",
              " ({'last_letter': 'n'}, 'female'),\n",
              " ({'last_letter': 'e'}, 'female'),\n",
              " ({'last_letter': 'r'}, 'female'),\n",
              " ({'last_letter': 'n'}, 'male'),\n",
              " ({'last_letter': 'a'}, 'female'),\n",
              " ({'last_letter': 'e'}, 'male'),\n",
              " ({'last_letter': 'y'}, 'female'),\n",
              " ({'last_letter': 'e'}, 'female'),\n",
              " ({'last_letter': 'n'}, 'female'),\n",
              " ({'last_letter': 'i'}, 'female'),\n",
              " ({'last_letter': 'l'}, 'female'),\n",
              " ...]"
            ]
          },
          "metadata": {
            "tags": []
          },
          "execution_count": 47
        }
      ]
    },
    {
      "cell_type": "code",
      "metadata": {
        "id": "jH27t15bnfE7",
        "colab_type": "code",
        "colab": {
          "base_uri": "https://localhost:8080/",
          "height": 34
        },
        "outputId": "9e820fb0-efad-47b7-8842-da663e80b045"
      },
      "source": [
        "train_set, test_set = create_dataset(gender_features)\n",
        "\n",
        "clf = nltk.NaiveBayesClassifier.train(train_set) # class method \n",
        "print(nltk.classify.accuracy(clf, test_set))"
      ],
      "execution_count": null,
      "outputs": [
        {
          "output_type": "stream",
          "text": [
            "0.76\n"
          ],
          "name": "stdout"
        }
      ]
    },
    {
      "cell_type": "code",
      "metadata": {
        "id": "UfVsYjwqoDRq",
        "colab_type": "code",
        "colab": {
          "base_uri": "https://localhost:8080/",
          "height": 204
        },
        "outputId": "a071d98b-3c3d-4e41-8c63-4d4bbe979d7d"
      },
      "source": [
        "clf.show_most_informative_features()"
      ],
      "execution_count": null,
      "outputs": [
        {
          "output_type": "stream",
          "text": [
            "Most Informative Features\n",
            "             last_letter = 'a'            female : male   =     36.6 : 1.0\n",
            "             last_letter = 'k'              male : female =     32.4 : 1.0\n",
            "             last_letter = 'f'              male : female =     16.0 : 1.0\n",
            "             last_letter = 'p'              male : female =     12.6 : 1.0\n",
            "             last_letter = 'v'              male : female =     11.2 : 1.0\n",
            "             last_letter = 'd'              male : female =      9.7 : 1.0\n",
            "             last_letter = 'm'              male : female =      8.8 : 1.0\n",
            "             last_letter = 'o'              male : female =      8.5 : 1.0\n",
            "             last_letter = 'z'              male : female =      7.2 : 1.0\n",
            "             last_letter = 'r'              male : female =      6.8 : 1.0\n"
          ],
          "name": "stdout"
        }
      ]
    },
    {
      "cell_type": "markdown",
      "metadata": {
        "id": "XokdWrKftCU4",
        "colab_type": "text"
      },
      "source": [
        "## Aprimorando o classificador"
      ]
    },
    {
      "cell_type": "code",
      "metadata": {
        "id": "2jFf0NL_tGcy",
        "colab_type": "code",
        "colab": {
          "base_uri": "https://localhost:8080/",
          "height": 54
        },
        "outputId": "2c08144f-6c8e-443c-e89a-b2bffee62dc7"
      },
      "source": [
        "def gender_features_plus(name):\n",
        "  features = {}\n",
        "  features['first_letter'] = name[0].lower()\n",
        "  features['last_letter'] = name[-1].lower()\n",
        "  features['last_two_letters'] = name[-2:].lower()\n",
        "  features['last_three_letters'] = name[-3:].lower()\n",
        "  for letter in 'abcdefghijklmnopqrstuvwxyz':\n",
        "    features[f\"count({letter})\"] = name.lower().count(letter)\n",
        "    features[f\"has({letter})\"] = 1 if letter in name.lower() else 0\n",
        "  return features\n",
        "print(gender_features_plus('Shrek'))"
      ],
      "execution_count": null,
      "outputs": [
        {
          "output_type": "stream",
          "text": [
            "{'first_letter': 's', 'last_letter': 'k', 'last_two_letters': 'ek', 'last_three_letters': 'rek', 'count(a)': 0, 'has(a)': 0, 'count(b)': 0, 'has(b)': 0, 'count(c)': 0, 'has(c)': 0, 'count(d)': 0, 'has(d)': 0, 'count(e)': 1, 'has(e)': 1, 'count(f)': 0, 'has(f)': 0, 'count(g)': 0, 'has(g)': 0, 'count(h)': 1, 'has(h)': 1, 'count(i)': 0, 'has(i)': 0, 'count(j)': 0, 'has(j)': 0, 'count(k)': 1, 'has(k)': 1, 'count(l)': 0, 'has(l)': 0, 'count(m)': 0, 'has(m)': 0, 'count(n)': 0, 'has(n)': 0, 'count(o)': 0, 'has(o)': 0, 'count(p)': 0, 'has(p)': 0, 'count(q)': 0, 'has(q)': 0, 'count(r)': 1, 'has(r)': 1, 'count(s)': 1, 'has(s)': 1, 'count(t)': 0, 'has(t)': 0, 'count(u)': 0, 'has(u)': 0, 'count(v)': 0, 'has(v)': 0, 'count(w)': 0, 'has(w)': 0, 'count(x)': 0, 'has(x)': 0, 'count(y)': 0, 'has(y)': 0, 'count(z)': 0, 'has(z)': 0}\n"
          ],
          "name": "stdout"
        }
      ]
    },
    {
      "cell_type": "code",
      "metadata": {
        "id": "ZTmwM3dUuJgp",
        "colab_type": "code",
        "colab": {
          "base_uri": "https://localhost:8080/",
          "height": 214
        },
        "outputId": "f204d29d-d28b-45af-b784-04fec6104850"
      },
      "source": [
        "train_set, test_set = create_dataset(gender_features_plus)\n",
        "\n",
        "clf = nltk.NaiveBayesClassifier.train(train_set) # class method \n",
        "y_hat = clf.predict(test_set)\n",
        "#print(nltk.classify.accuracy(clf, test_set))"
      ],
      "execution_count": null,
      "outputs": [
        {
          "output_type": "error",
          "ename": "AttributeError",
          "evalue": "ignored",
          "traceback": [
            "\u001b[0;31m---------------------------------------------------------------------------\u001b[0m",
            "\u001b[0;31mAttributeError\u001b[0m                            Traceback (most recent call last)",
            "\u001b[0;32m<ipython-input-74-35abd0119cd3>\u001b[0m in \u001b[0;36m<module>\u001b[0;34m()\u001b[0m\n\u001b[1;32m      2\u001b[0m \u001b[0;34m\u001b[0m\u001b[0m\n\u001b[1;32m      3\u001b[0m \u001b[0mclf\u001b[0m \u001b[0;34m=\u001b[0m \u001b[0mnltk\u001b[0m\u001b[0;34m.\u001b[0m\u001b[0mNaiveBayesClassifier\u001b[0m\u001b[0;34m.\u001b[0m\u001b[0mtrain\u001b[0m\u001b[0;34m(\u001b[0m\u001b[0mtrain_set\u001b[0m\u001b[0;34m)\u001b[0m \u001b[0;31m# class method\u001b[0m\u001b[0;34m\u001b[0m\u001b[0;34m\u001b[0m\u001b[0m\n\u001b[0;32m----> 4\u001b[0;31m \u001b[0my_hat\u001b[0m \u001b[0;34m=\u001b[0m \u001b[0mclf\u001b[0m\u001b[0;34m.\u001b[0m\u001b[0mpredict\u001b[0m\u001b[0;34m(\u001b[0m\u001b[0mtest_set\u001b[0m\u001b[0;34m)\u001b[0m\u001b[0;34m\u001b[0m\u001b[0;34m\u001b[0m\u001b[0m\n\u001b[0m\u001b[1;32m      5\u001b[0m \u001b[0;31m#print(nltk.classify.accuracy(clf, test_set))\u001b[0m\u001b[0;34m\u001b[0m\u001b[0;34m\u001b[0m\u001b[0;34m\u001b[0m\u001b[0m\n",
            "\u001b[0;31mAttributeError\u001b[0m: 'NaiveBayesClassifier' object has no attribute 'predict'"
          ]
        }
      ]
    },
    {
      "cell_type": "code",
      "metadata": {
        "id": "xXfhDCAaoPwD",
        "colab_type": "code",
        "colab": {}
      },
      "source": [
        "from sklean.metrics import confusion_matrix\n",
        "confusion"
      ],
      "execution_count": null,
      "outputs": []
    },
    {
      "cell_type": "code",
      "metadata": {
        "id": "SZh_jHc3vpvK",
        "colab_type": "code",
        "colab": {
          "base_uri": "https://localhost:8080/",
          "height": 204
        },
        "outputId": "20fc6da3-c919-437d-a4ee-6375553ff2c7"
      },
      "source": [
        "clf.show_most_informative_features()"
      ],
      "execution_count": null,
      "outputs": [
        {
          "output_type": "stream",
          "text": [
            "Most Informative Features\n",
            "        last_two_letters = 'na'           female : male   =     98.1 : 1.0\n",
            "        last_two_letters = 'la'           female : male   =     73.5 : 1.0\n",
            "        last_two_letters = 'ia'           female : male   =     39.5 : 1.0\n",
            "             last_letter = 'a'            female : male   =     36.6 : 1.0\n",
            "        last_two_letters = 'sa'           female : male   =     35.2 : 1.0\n",
            "             last_letter = 'k'              male : female =     32.4 : 1.0\n",
            "        last_two_letters = 'us'             male : female =     27.5 : 1.0\n",
            "        last_two_letters = 'ra'           female : male   =     27.2 : 1.0\n",
            "        last_two_letters = 'do'             male : female =     25.1 : 1.0\n",
            "        last_two_letters = 'rd'             male : female =     24.7 : 1.0\n"
          ],
          "name": "stdout"
        }
      ]
    },
    {
      "cell_type": "markdown",
      "metadata": {
        "id": "rkrwke3VOCIb",
        "colab_type": "text"
      },
      "source": [
        "## Sentence Segmentation"
      ]
    },
    {
      "cell_type": "code",
      "metadata": {
        "id": "g_nx0_rgI4nm",
        "colab_type": "code",
        "colab": {
          "base_uri": "https://localhost:8080/",
          "height": 85
        },
        "outputId": "f96a42c4-d43a-465d-f17d-a68ed1667fb4"
      },
      "source": [
        "nltk.download('treebank')\n",
        "nltk.download('punkt')\n",
        "sents = nltk.corpus.treebank_raw.sents()"
      ],
      "execution_count": null,
      "outputs": [
        {
          "output_type": "stream",
          "text": [
            "[nltk_data] Downloading package treebank to /root/nltk_data...\n",
            "[nltk_data]   Package treebank is already up-to-date!\n",
            "[nltk_data] Downloading package punkt to /root/nltk_data...\n",
            "[nltk_data]   Unzipping tokenizers/punkt.zip.\n"
          ],
          "name": "stdout"
        }
      ]
    },
    {
      "cell_type": "code",
      "metadata": {
        "id": "UrOmReRdJSZB",
        "colab_type": "code",
        "colab": {}
      },
      "source": [
        "tokens = []\n",
        "boundaries = set()\n",
        "offset = 0\n",
        "for sent in sents:\n",
        "  tokens.extend(sent)\n",
        "  offset += len(sent)\n",
        "  boundaries.add(offset-1)"
      ],
      "execution_count": null,
      "outputs": []
    },
    {
      "cell_type": "code",
      "metadata": {
        "id": "xdF_eQf5JbzJ",
        "colab_type": "code",
        "colab": {}
      },
      "source": [
        "def punct_features(tokens, i):\n",
        "  return {\n",
        "      'next-word-capitalized': tokens[i+1][0].isupper(),\n",
        "      'prev-word': tokens[i-1].lower(),\n",
        "      'punct': tokens[i],\n",
        "      'prev-word-is-one-char': len(tokens[i-1]) == 1\n",
        "    }"
      ],
      "execution_count": null,
      "outputs": []
    },
    {
      "cell_type": "code",
      "metadata": {
        "id": "NQ5xjZnVNA-z",
        "colab_type": "code",
        "colab": {
          "base_uri": "https://localhost:8080/",
          "height": 442
        },
        "outputId": "205a7fd3-3f60-42d3-87d2-99321c0b8495"
      },
      "source": [
        "featuresets = [(punct_features(tokens, i), (i in boundaries)) for i in range(1, len(tokens)-1) if tokens[i] in '.?!']\n",
        "featuresets[:5]"
      ],
      "execution_count": null,
      "outputs": [
        {
          "output_type": "execute_result",
          "data": {
            "text/plain": [
              "[({'next-word-capitalized': False,\n",
              "   'prev-word': 'nov',\n",
              "   'prev-word-is-one-char': False,\n",
              "   'punct': '.'},\n",
              "  False),\n",
              " ({'next-word-capitalized': True,\n",
              "   'prev-word': '29',\n",
              "   'prev-word-is-one-char': False,\n",
              "   'punct': '.'},\n",
              "  True),\n",
              " ({'next-word-capitalized': True,\n",
              "   'prev-word': 'mr',\n",
              "   'prev-word-is-one-char': False,\n",
              "   'punct': '.'},\n",
              "  False),\n",
              " ({'next-word-capitalized': True,\n",
              "   'prev-word': 'n',\n",
              "   'prev-word-is-one-char': True,\n",
              "   'punct': '.'},\n",
              "  False),\n",
              " ({'next-word-capitalized': False,\n",
              "   'prev-word': 'group',\n",
              "   'prev-word-is-one-char': False,\n",
              "   'punct': '.'},\n",
              "  True)]"
            ]
          },
          "metadata": {
            "tags": []
          },
          "execution_count": 72
        }
      ]
    },
    {
      "cell_type": "code",
      "metadata": {
        "id": "GvQ4vWJyNgGX",
        "colab_type": "code",
        "colab": {
          "base_uri": "https://localhost:8080/",
          "height": 34
        },
        "outputId": "f4436a9f-9bb7-4ce0-aca1-1ff3e3b0602b"
      },
      "source": [
        "size = int(len(featuresets) * 0.1)\n",
        "train_set, test_set = featuresets[size:], featuresets[:size]\n",
        "classifier = nltk.NaiveBayesClassifier.train(train_set)\n",
        "nltk.classify.accuracy(classifier, test_set)"
      ],
      "execution_count": null,
      "outputs": [
        {
          "output_type": "execute_result",
          "data": {
            "text/plain": [
              "0.936026936026936"
            ]
          },
          "metadata": {
            "tags": []
          },
          "execution_count": 70
        }
      ]
    }
  ]
}